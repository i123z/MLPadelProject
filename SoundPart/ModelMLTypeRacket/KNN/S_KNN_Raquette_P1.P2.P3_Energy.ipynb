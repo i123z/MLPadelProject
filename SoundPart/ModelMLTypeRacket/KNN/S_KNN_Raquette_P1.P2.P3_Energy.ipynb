{
 "cells": [
  {
   "cell_type": "markdown",
   "metadata": {},
   "source": [
    "# KNN model for predicting racket type using datasets P1, P2, and P3, based on **energy per band features** - Sound"
   ]
  },
  {
   "cell_type": "markdown",
   "metadata": {},
   "source": [
    "### Model Description\n",
    "\n",
    "This notebook implements a K-Nearest Neighbors (KNN) model to predict the type of a racket (RB, RO, RR, RV) based on sound features extracted from audio files. The workflow involves reading `.wav` files, **extracting energy per frequency band** using FFT, and training the model using these features. The model's performance is evaluated using accuracy metrics and visualized through scatter plots and a confusion matrix."
   ]
  },
  {
   "cell_type": "markdown",
   "metadata": {},
   "source": [
    "### Import libraries"
   ]
  },
  {
   "cell_type": "code",
   "execution_count": 1,
   "metadata": {},
   "outputs": [],
   "source": [
    "import os\n",
    "import glob\n",
    "import pandas as pd\n",
    "from sklearn.preprocessing import LabelEncoder\n",
    "from scipy.io import wavfile\n",
    "from scipy.fft import fft\n",
    "import matplotlib.pyplot as plt\n",
    "import numpy as np\n",
    "from sklearn.model_selection import train_test_split\n",
    "from sklearn.neighbors import KNeighborsClassifier\n",
    "from sklearn.metrics import accuracy_score\n",
    "# import openpyxl\n"
   ]
  },
  {
   "cell_type": "markdown",
   "metadata": {},
   "source": [
    "### Import Tools Functions"
   ]
  },
  {
   "cell_type": "code",
   "execution_count": 2,
   "metadata": {},
   "outputs": [],
   "source": [
    "import sys\n",
    "# Reach the project root\n",
    "notebook_path = os.path.abspath('')\n",
    "project_root = os.path.abspath(os.path.join(notebook_path, '../../../'))\n",
    "functions_path = os.path.join(project_root, 'Functions')\n",
    "\n",
    "# Add Functions folder\n",
    "if functions_path not in sys.path:\n",
    "    sys.path.append(functions_path)"
   ]
  },
  {
   "cell_type": "code",
   "execution_count": 3,
   "metadata": {},
   "outputs": [],
   "source": [
    "from readWavFolder import readWavFolder\n",
    "    \n"
   ]
  },
  {
   "cell_type": "markdown",
   "metadata": {},
   "source": [
    "Spectrum"
   ]
  },
  {
   "cell_type": "code",
   "execution_count": 4,
   "metadata": {},
   "outputs": [],
   "source": [
    "from spectrumFromSignal import spectrumFromSignal\n",
    "\n",
    "\n"
   ]
  },
  {
   "cell_type": "markdown",
   "metadata": {},
   "source": [
    "Energy"
   ]
  },
  {
   "cell_type": "code",
   "execution_count": 5,
   "metadata": {},
   "outputs": [],
   "source": [
    "from energy_per_frequency_band_from_spectrum import energy_per_frequency_band_from_spectrum"
   ]
  },
  {
   "cell_type": "markdown",
   "metadata": {},
   "source": [
    "## Main"
   ]
  },
  {
   "cell_type": "code",
   "execution_count": 6,
   "metadata": {},
   "outputs": [
    {
     "name": "stdout",
     "output_type": "stream",
     "text": [
      "10\n",
      "    Folder                  File_Name  Sample_Rate  \\\n",
      "0       P1            P1_RB_1_C_1.wav        44100   \n",
      "1       P1            P1_RB_1_C_2.wav        44100   \n",
      "2       P1            P1_RB_1_C_3.wav        44100   \n",
      "3       P1            P1_RB_1_S_1.wav        44100   \n",
      "4       P1            P1_RB_1_S_2.wav        44100   \n",
      "..     ...                        ...          ...   \n",
      "737     P3  RV_6_C_Salve1Segment5.wav        44100   \n",
      "738     P3  RV_6_C_Salve1Segment6.wav        44100   \n",
      "739     P3  RV_6_C_Salve1Segment7.wav        44100   \n",
      "740     P3  RV_6_C_Salve1Segment8.wav        44100   \n",
      "741     P3  RV_6_C_Salve1Segment9.wav        44100   \n",
      "\n",
      "                                                Signal  \n",
      "0    [[-24, -13], [-23, -14], [-23, -14], [-23, -13...  \n",
      "1    [[-9, -1], [-8, -2], [-9, -1], [-8, -1], [-10,...  \n",
      "2    [[-70, -59], [-71, -59], [-70, -59], [-70, -59...  \n",
      "3    [[535, 506], [536, 506], [536, 506], [535, 506...  \n",
      "4    [[0, -3], [0, -3], [0, -4], [0, -2], [1, -3], ...  \n",
      "..                                                 ...  \n",
      "737  [[-200, -103], [-203, -103], [-202, -101], [-2...  \n",
      "738  [[-963, -192], [-958, -188], [-964, -188], [-9...  \n",
      "739  [[34, -87], [34, -87], [35, -81], [32, -83], [...  \n",
      "740  [[-216, -399], [-216, -397], [-215, -390], [-2...  \n",
      "741  [[42, 40], [40, 51], [41, 53], [46, 56], [42, ...  \n",
      "\n",
      "[742 rows x 4 columns]\n"
     ]
    },
    {
     "ename": "NameError",
     "evalue": "name 'c' is not defined",
     "output_type": "error",
     "traceback": [
      "\u001b[1;31m---------------------------------------------------------------------------\u001b[0m",
      "\u001b[1;31mNameError\u001b[0m                                 Traceback (most recent call last)",
      "Cell \u001b[1;32mIn[6], line 99\u001b[0m\n\u001b[0;32m     96\u001b[0m accuracy_train \u001b[38;5;241m=\u001b[39m accuracy_score(y_train, y_train_pred)\n\u001b[0;32m     98\u001b[0m \u001b[38;5;66;03m# Switch case for channel\u001b[39;00m\n\u001b[1;32m---> 99\u001b[0m \u001b[38;5;28;01mif\u001b[39;00m \u001b[43mc\u001b[49m \u001b[38;5;241m==\u001b[39m \u001b[38;5;241m0\u001b[39m:\n\u001b[0;32m    100\u001b[0m     channel_name \u001b[38;5;241m=\u001b[39m \u001b[38;5;124m\"\u001b[39m\u001b[38;5;124mLeft\u001b[39m\u001b[38;5;124m\"\u001b[39m\n\u001b[0;32m    101\u001b[0m \u001b[38;5;28;01melif\u001b[39;00m c \u001b[38;5;241m==\u001b[39m \u001b[38;5;241m1\u001b[39m:\n",
      "\u001b[1;31mNameError\u001b[0m: name 'c' is not defined"
     ]
    }
   ],
   "source": [
    "raquetteTypeList = {\"RB\": 0, \"RO\": 1, \"RR\": 2, \"RV\": 3}\n",
    "used = False\n",
    "bd = 10\n",
    "\n",
    "# List to store the results\n",
    "results = []\n",
    "\n",
    "\n",
    "for i in range(10, 101, 5):\n",
    "    X_Hz = []\n",
    "    X_Amplitude = []\n",
    "    Y_Label = []\n",
    "    bd = i\n",
    "    print(bd)\n",
    "\n",
    "    # Create a DataFrame to store details of each wav file\n",
    "    wav_files_data = []\n",
    "\n",
    "    # Process each folder (P1, P2, P3)\n",
    "    for folder, folder_path in [(\"P1\", \"../../../Data/Sound/P1\"), \n",
    "                                (\"P2\", \"../../../Data/Sound/P2\"), \n",
    "                                (\"P3\", \"../../../Data/Sound/P3\")]:\n",
    "        sample_rates, wav_files, file_names = readWavFolder(folder_path)\n",
    "        \n",
    "        for sample_rate, wav_file, file_name in zip(sample_rates, wav_files, file_names):\n",
    "            wav_files_data.append({\n",
    "                \"Folder\": folder,\n",
    "                \"File_Name\": file_name,\n",
    "                \"Sample_Rate\": sample_rate,\n",
    "                \"Signal\": wav_file\n",
    "            })\n",
    "\n",
    "    # Convert the list of dictionaries into a DataFrame\n",
    "    wav_files_df = pd.DataFrame(wav_files_data)\n",
    "\n",
    "    # Display the DataFrame\n",
    "    print(wav_files_df)\n",
    "\n",
    "    # For each wav file, extract its spectrum, filter it between 150 and 1000 Hz, and take the n best peaks\n",
    "    for i in range(len(wav_files_df[\"Signal\"])):\n",
    "        if \"C\" in wav_files_df[\"File_Name\"][i]:\n",
    "            if 'RB' in wav_files_df[\"File_Name\"][i]:\n",
    "                raquetteType = 'RB'\n",
    "            elif 'RR' in wav_files_df[\"File_Name\"][i]:\n",
    "                raquetteType = 'RR'\n",
    "            elif 'RO' in wav_files_df[\"File_Name\"][i]:\n",
    "                raquetteType = 'RO'\n",
    "            elif 'RV' in wav_files_df[\"File_Name\"][i]:\n",
    "                raquetteType = 'RV'\n",
    "                \n",
    "            spectrum, freqs = spectrumFromSignal(wav_files_df[\"Signal\"][i], wav_files_df[\"Sample_Rate\"][i])\n",
    "\n",
    "            band_energies, band_frequencies = energy_per_frequency_band_from_spectrum(spectrum, freqs[(freqs >= 150) & (freqs <= 1000)], bd)\n",
    "\n",
    "            X_Hz.append(band_frequencies)\n",
    "            X_Amplitude.append(band_energies)\n",
    "\n",
    "            Y_Label.append(raquetteType)\n",
    "\n",
    "    # Normalize the amplitudes\n",
    "    X_Amplitude = [peak_values / np.max(peak_values) for peak_values in X_Amplitude]\n",
    "\n",
    "    # Ensure all arrays in X_peaksHz and X_peaksAmplitude have the same length\n",
    "    max_length = max(max(len(peaks) for peaks in X_Hz), max(len(amps) for amps in X_Amplitude))\n",
    "    X_Hz_padded = [np.pad(peaks, (0, max_length - len(peaks)), constant_values=0) for peaks in X_Hz]\n",
    "    X_Amplitude_padded = [np.pad(amps, (0, max_length - len(amps)), constant_values=0) for amps in X_Amplitude]\n",
    "\n",
    "    # Combine the frequencies and amplitudes into a single feature matrix\n",
    "    X = np.hstack((np.array(X_Hz_padded), np.array(X_Amplitude_padded)))\n",
    "\n",
    "    # Encode string labels into integers\n",
    "    label_encoder = LabelEncoder()\n",
    "    y = label_encoder.fit_transform(Y_Label)\n",
    "\n",
    "    # Split the data into training and test sets\n",
    "    X_train, X_test, y_train, y_test = train_test_split(X, y, test_size=0.2, random_state=None, shuffle=True)\n",
    "    # Define the ranges of values for the hyperparameters\n",
    "    n_neighbors_range = range(1, 21)  # Number of neighbors\n",
    "    weights_options = ['uniform', 'distance']  # Weighting method\n",
    "    metric_options = ['euclidean', 'manhattan', 'chebyshev', 'minkowski']  # Metrics\n",
    "\n",
    "    # Test all combinations of hyperparameters\n",
    "    for n_neighbors in n_neighbors_range:\n",
    "        for weights in weights_options:\n",
    "            for metric in metric_options:\n",
    "                # Create and train the KNN model\n",
    "                knn = KNeighborsClassifier(n_neighbors=n_neighbors, weights=weights, metric=metric)\n",
    "                knn.fit(X_train, y_train)\n",
    "\n",
    "                # Evaluate on the test set\n",
    "                y_pred = knn.predict(X_test)\n",
    "                accuracy_test = accuracy_score(y_test, y_pred)\n",
    "\n",
    "                # Evaluate on the training set\n",
    "                y_train_pred = knn.predict(X_train)\n",
    "                accuracy_train = accuracy_score(y_train, y_train_pred)\n",
    "\n",
    "                # Switch case for channel\n",
    "                if c == 0:\n",
    "                    channel_name = \"Left\"\n",
    "                elif c == 1:\n",
    "                    channel_name = \"Right\"\n",
    "                \n",
    "                # Add channel name to results\n",
    "                results.append({\n",
    "                    'Chanel_Name': channel_name,\n",
    "                    'band_width': bd,\n",
    "                    'n_neighbors': n_neighbors,\n",
    "                    'weights': weights,\n",
    "                    'metric': metric,\n",
    "                    'accuracy_train': accuracy_train,\n",
    "                    'accuracy_test': accuracy_test\n",
    "                })\n",
    "\n",
    "# Convert the results into a DataFrame\n",
    "results_df = pd.DataFrame(results)\n"
   ]
  }
 ],
 "metadata": {
  "kernelspec": {
   "display_name": "IAConda",
   "language": "python",
   "name": "python3"
  },
  "language_info": {
   "codemirror_mode": {
    "name": "ipython",
    "version": 3
   },
   "file_extension": ".py",
   "mimetype": "text/x-python",
   "name": "python",
   "nbconvert_exporter": "python",
   "pygments_lexer": "ipython3",
   "version": "3.8.15"
  }
 },
 "nbformat": 4,
 "nbformat_minor": 2
}
