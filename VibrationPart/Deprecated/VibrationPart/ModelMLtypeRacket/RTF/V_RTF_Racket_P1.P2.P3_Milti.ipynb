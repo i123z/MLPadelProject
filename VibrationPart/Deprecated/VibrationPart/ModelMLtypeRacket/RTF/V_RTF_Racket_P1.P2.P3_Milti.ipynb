{
 "cells": [
  {
   "cell_type": "markdown",
   "id": "a8858199",
   "metadata": {},
   "source": [
    "# RTF Model for predicting Racket with Multi Features - Vibrations"
   ]
  },
  {
   "cell_type": "code",
   "execution_count": 6,
   "id": "6836dc86",
   "metadata": {},
   "outputs": [
    {
     "name": "stdout",
     "output_type": "stream",
     "text": [
      "Meilleurs hyperparamètres : {'max_depth': None, 'min_samples_split': 2, 'n_estimators': 200}\n",
      "Rapport de classification :\n",
      "              precision    recall  f1-score   support\n",
      "\n",
      "          RB       0.69      0.71      0.70        35\n",
      "          RO       0.80      0.65      0.72        49\n",
      "          RR       0.63      0.75      0.69        32\n",
      "          RV       0.78      0.82      0.80        39\n",
      "\n",
      "    accuracy                           0.73       155\n",
      "   macro avg       0.73      0.73      0.73       155\n",
      "weighted avg       0.74      0.73      0.73       155\n",
      "\n"
     ]
    }
   ],
   "source": [
    "import os\n",
    "import numpy as np\n",
    "import pandas as pd\n",
    "from sklearn.model_selection import train_test_split, GridSearchCV\n",
    "from sklearn.ensemble import RandomForestClassifier\n",
    "from sklearn.preprocessing import StandardScaler\n",
    "from sklearn.metrics import classification_report\n",
    "from scipy.fft import fft\n",
    "\n",
    "def extract_features(signal):\n",
    "    # Extraction de caractéristiques statistiques et fréquentielles\n",
    "    mean = np.mean(signal)\n",
    "    std = np.std(signal)\n",
    "    max_val = np.max(signal)\n",
    "    min_val = np.min(signal)\n",
    "    energy = np.sum(signal**2)\n",
    "    \n",
    "    # Fréquences : on prend les 10 premières composantes FFT (hors composante continue)\n",
    "    fft_vals = np.abs(fft(signal))[1:11]\n",
    "    \n",
    "    return np.hstack([mean, std, max_val, min_val, energy, fft_vals])\n",
    "\n",
    "# Chemin vers ton dossier\n",
    "folder_path = \"all_vib\"\n",
    "\n",
    "X = []\n",
    "y = []\n",
    "\n",
    "# Chargement et traitement des fichiers\n",
    "for filename in os.listdir(folder_path):\n",
    "    if filename.endswith(\".csv\"):\n",
    "        file_path = os.path.join(folder_path, filename)\n",
    "        data = pd.read_csv(file_path)\n",
    "        if data.shape[0] == 2400:\n",
    "            signal = data.values.flatten()\n",
    "            features = extract_features(signal)\n",
    "            X.append(features)\n",
    "            label = filename.split(\"_\")[1]\n",
    "            y.append(label)\n",
    "\n",
    "X = np.array(X)\n",
    "y = np.array(y)\n",
    "\n",
    "# Normalisation\n",
    "scaler = StandardScaler()\n",
    "X_scaled = scaler.fit_transform(X)\n",
    "\n",
    "# Split train/test\n",
    "X_train, X_test, y_train, y_test = train_test_split(X_scaled, y, test_size=0.2, random_state=42)\n",
    "\n",
    "# Recherche des meilleurs hyperparamètres\n",
    "param_grid = {\n",
    "    'n_estimators': [100, 200],\n",
    "    'max_depth': [None, 10, 20],\n",
    "    'min_samples_split': [2, 5]\n",
    "}\n",
    "\n",
    "grid = GridSearchCV(RandomForestClassifier(random_state=42), param_grid, cv=3, n_jobs=-1)\n",
    "grid.fit(X_train, y_train)\n",
    "\n",
    "best_model = grid.best_estimator_\n",
    "y_pred = best_model.predict(X_test)\n",
    "\n",
    "# Affichage du rapport de classification\n",
    "print(\"Meilleurs hyperparamètres :\", grid.best_params_)\n",
    "print(\"Rapport de classification :\")\n",
    "print(classification_report(y_test, y_pred))\n"
   ]
  },
  {
   "cell_type": "code",
   "execution_count": 7,
   "id": "b73ecd76",
   "metadata": {},
   "outputs": [
    {
     "name": "stdout",
     "output_type": "stream",
     "text": [
      "Précision du modèle : 72.90%\n"
     ]
    }
   ],
   "source": [
    "from sklearn.metrics import accuracy_score\n",
    "\n",
    "# Affichage de la précision\n",
    "accuracy = accuracy_score(y_test, y_pred)\n",
    "print(f\"Précision du modèle : {accuracy:.2%}\")\n"
   ]
  },
  {
   "cell_type": "code",
   "execution_count": null,
   "id": "1d76a33b",
   "metadata": {},
   "outputs": [],
   "source": []
  }
 ],
 "metadata": {
  "kernelspec": {
   "display_name": "ia",
   "language": "python",
   "name": "python3"
  },
  "language_info": {
   "codemirror_mode": {
    "name": "ipython",
    "version": 3
   },
   "file_extension": ".py",
   "mimetype": "text/x-python",
   "name": "python",
   "nbconvert_exporter": "python",
   "pygments_lexer": "ipython3",
   "version": "3.12.7"
  }
 },
 "nbformat": 4,
 "nbformat_minor": 5
}
