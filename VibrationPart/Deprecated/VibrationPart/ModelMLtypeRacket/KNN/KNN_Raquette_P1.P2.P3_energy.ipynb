{
 "cells": [
  {
   "cell_type": "markdown",
   "metadata": {},
   "source": [
    "# KNN Model for predicting raquette type"
   ]
  },
  {
   "cell_type": "markdown",
   "metadata": {},
   "source": [
    "Import"
   ]
  },
  {
   "cell_type": "code",
   "execution_count": 14,
   "metadata": {},
   "outputs": [],
   "source": [
    "import os\n",
    "import glob\n",
    "import pandas as pd\n",
    "from sklearn.preprocessing import LabelEncoder\n",
    "from scipy.io import wavfile, loadmat\n",
    "from scipy.signal import hilbert\n",
    "from scipy.fft import fft\n",
    "from scipy.signal import find_peaks\n",
    "import matplotlib.pyplot as plt\n",
    "import numpy as np\n",
    "from sklearn.model_selection import train_test_split\n",
    "from sklearn.neighbors import KNeighborsClassifier\n",
    "from sklearn.metrics import accuracy_score\n",
    "# import openpyxl\n",
    "\n",
    "\n",
    "sr = 20000\n"
   ]
  },
  {
   "cell_type": "markdown",
   "metadata": {},
   "source": [
    "Readwav function"
   ]
  },
  {
   "cell_type": "code",
   "execution_count": 15,
   "metadata": {},
   "outputs": [],
   "source": [
    "def readCsvFolder(folderPath):\n",
    "    fileFolder = []\n",
    "    fileNames = []\n",
    "    for dirpath, dirs, files in os.walk(folderPath):\n",
    "        for file in files:\n",
    "            if file.endswith('.csv') and \"_C_\" in file:\n",
    "                base_name = os.path.splitext(file)[0]\n",
    "                file_path = os.path.join(dirpath, file)  # Full path of the file\n",
    "                data = pd.read_csv(file_path)  # Read the CSV file using pandas\n",
    "                fileFolder.append(data)\n",
    "                fileNames.append(file)  # Store the file name\n",
    "    return fileFolder, fileNames\n",
    "\n",
    "p1_csv_vect, p1_files = readCsvFolder(\"../Vibrations/P1_clean\")\n",
    "p2_csv_vect, p2_files = readCsvFolder(\"../Vibrations/P2_clean\")\n",
    "p3_csv_vect, p3_files = readCsvFolder(\"../Vibrations/P3_clean\")\n",
    "\n",
    "\n",
    "\n",
    "for i in range(len(p1_csv_vect)):\n",
    "    plt.plot(p1_csv_vect[i].iloc[:, 0])  # Plot only the first column\n",
    "plt.show()\n",
    "\n",
    "for i in range(len(p2_csv_vect)):\n",
    "    plt.plot(p2_csv_vect[i].iloc[:, 0])  # Plot only the first column\n",
    "plt.show()\n",
    "\n",
    "for i in range(len(p3_csv_vect)):\n",
    "    plt.plot(p3_csv_vect[i].iloc[:, 0])  # Plot only the first column\n",
    "plt.show()"
   ]
  },
  {
   "cell_type": "markdown",
   "metadata": {},
   "source": [
    "Spectrum"
   ]
  },
  {
   "cell_type": "code",
   "execution_count": 16,
   "metadata": {},
   "outputs": [
    {
     "name": "stdout",
     "output_type": "stream",
     "text": [
      "0 0 0\n"
     ]
    }
   ],
   "source": [
    "def spectrumFromCsv(channel, sampling_rate=sr):\n",
    "    signal = channel.iloc[:, 0].values  # vibration data\n",
    "    N = len(signal)\n",
    "    xf = np.fft.fftfreq(N, d=1/sampling_rate)[:N // 2]\n",
    "    spectrum = fft(signal)\n",
    "    magnitude = abs(spectrum[:N // 2])\n",
    "    return xf, magnitude\n",
    "\n",
    "# Data sources\n",
    "file_groups = [p1_files, p2_files, p3_files]\n",
    "csv_groups = [p1_csv_vect, p2_csv_vect, p3_csv_vect]\n",
    "spectrum_groups = [[], [], []]  # Will hold p1_spectrum_vect, p2_spectrum_vect, p3_spectrum_vect\n",
    "\n",
    "# Step 1: Compute and store filtered spectra for all groups\n",
    "for group_idx in range(len(file_groups)):\n",
    "    for i in range(len(file_groups[group_idx])):\n",
    "        freqs, spectrum = spectrumFromCsv(csv_groups[group_idx][i])\n",
    "        band_mask = (freqs >= 150) & (freqs <= 1000)\n",
    "        filtered_freqs = freqs[band_mask]\n",
    "        filtered_spectrum = spectrum[band_mask]\n",
    "        spectrum_groups[group_idx].append((filtered_freqs, filtered_spectrum))\n",
    "\n",
    "# Optional: Print lengths for verification\n",
    "print(len(spectrum_groups[0]), len(spectrum_groups[1]), len(spectrum_groups[2]))\n",
    "\n",
    "# Step 2: Plot one sample per racket type from each group\n",
    "for group_idx in range(len(file_groups)):\n",
    "    spectrum_vect = spectrum_groups[group_idx]\n",
    "    files = file_groups[group_idx]\n",
    "    shown_raquettes = {\"RB\": 0, \"RO\": 0, \"RR\": 0, \"RV\": 0}\n",
    "\n",
    "    for i, (freqs, spectrum) in enumerate(spectrum_vect):\n",
    "        for raquetteType in shown_raquettes:\n",
    "            if raquetteType in files[i] and shown_raquettes[raquetteType] == 0:\n",
    "                plt.figure(figsize=(6, 3))\n",
    "                plt.plot(freqs, spectrum)\n",
    "                plt.grid()\n",
    "                plt.title(f\"{files[i]}\")\n",
    "                plt.xlabel(\"Frequency (Hz)\")\n",
    "                plt.ylabel(\"Amplitude\")\n",
    "                plt.show()\n",
    "                shown_raquettes[raquetteType] = 1\n",
    "\n"
   ]
  },
  {
   "cell_type": "markdown",
   "metadata": {},
   "source": [
    "# Peaks"
   ]
  },
  {
   "cell_type": "code",
   "execution_count": 17,
   "metadata": {},
   "outputs": [
    {
     "ename": "IndexError",
     "evalue": "list index out of range",
     "output_type": "error",
     "traceback": [
      "\u001b[1;31m---------------------------------------------------------------------------\u001b[0m",
      "\u001b[1;31mIndexError\u001b[0m                                Traceback (most recent call last)",
      "Cell \u001b[1;32mIn[17], line 22\u001b[0m\n\u001b[0;32m     20\u001b[0m     peak_freq, peak_val \u001b[38;5;241m=\u001b[39m extractNPeak(\u001b[38;5;241m8\u001b[39m, (freqs, spectrum))\n\u001b[0;32m     21\u001b[0m     peak_groups[group_idx]\u001b[38;5;241m.\u001b[39mappend((peak_freq, peak_val))\n\u001b[1;32m---> 22\u001b[0m peaks, peak_values \u001b[38;5;241m=\u001b[39m \u001b[43mpeak_groups\u001b[49m\u001b[43m[\u001b[49m\u001b[43mgroup_idx\u001b[49m\u001b[43m]\u001b[49m\u001b[43m[\u001b[49m\u001b[38;5;241;43m0\u001b[39;49m\u001b[43m]\u001b[49m\n\u001b[0;32m     23\u001b[0m plt\u001b[38;5;241m.\u001b[39mfigure(figsize\u001b[38;5;241m=\u001b[39m(\u001b[38;5;241m6\u001b[39m, \u001b[38;5;241m3\u001b[39m))\n\u001b[0;32m     24\u001b[0m plt\u001b[38;5;241m.\u001b[39mplot(spectrum_vect[\u001b[38;5;241m0\u001b[39m][\u001b[38;5;241m0\u001b[39m], spectrum_vect[\u001b[38;5;241m0\u001b[39m][\u001b[38;5;241m1\u001b[39m], label\u001b[38;5;241m=\u001b[39m\u001b[38;5;124m\"\u001b[39m\u001b[38;5;124mSpectrum\u001b[39m\u001b[38;5;124m\"\u001b[39m)\n",
      "\u001b[1;31mIndexError\u001b[0m: list index out of range"
     ]
    }
   ],
   "source": [
    "def extractNPeak(n_peak, signal_tuple):\n",
    "    freqs, spectrum = signal_tuple\n",
    "\n",
    "    peaks, _ = find_peaks(spectrum, distance=5)\n",
    "    sorted_indices = np.argsort(spectrum[peaks])[::-1][:n_peak]\n",
    "    peaks = peaks[sorted_indices]\n",
    "\n",
    "    peak_frequencies = freqs[peaks]\n",
    "    peak_values = spectrum[peaks]   \n",
    "\n",
    "    return peak_frequencies, peak_values\n",
    "\n",
    "peak_groups = [[],[],[]]\n",
    "for group_idx in range(len(file_groups)):\n",
    "    files = file_groups[group_idx]\n",
    "    spectrum_vect = spectrum_groups[group_idx]\n",
    "\n",
    "    # Limit to just the first sample from each group\n",
    "    for i, (freqs, spectrum) in enumerate(spectrum_vect):\n",
    "        peak_freq, peak_val = extractNPeak(8, (freqs, spectrum))\n",
    "        peak_groups[group_idx].append((peak_freq, peak_val))\n",
    "    peaks, peak_values = peak_groups[group_idx][0]\n",
    "    plt.figure(figsize=(6, 3))\n",
    "    plt.plot(spectrum_vect[0][0], spectrum_vect[0][1], label=\"Spectrum\")\n",
    "    plt.scatter(peaks, peak_values, color='red', label=\"Peaks\")\n",
    "    plt.title(files[i])\n",
    "    plt.xlabel(\"Frequency (Hz)\")\n",
    "    plt.ylabel(\"Amplitude\")\n",
    "    plt.grid()\n",
    "    plt.legend()\n",
    "    plt.show()"
   ]
  },
  {
   "cell_type": "markdown",
   "metadata": {},
   "source": [
    "## Envelope"
   ]
  },
  {
   "cell_type": "code",
   "execution_count": null,
   "metadata": {},
   "outputs": [
    {
     "ename": "IndexError",
     "evalue": "list index out of range",
     "output_type": "error",
     "traceback": [
      "\u001b[1;31m---------------------------------------------------------------------------\u001b[0m",
      "\u001b[1;31mIndexError\u001b[0m                                Traceback (most recent call last)",
      "Cell \u001b[1;32mIn[9], line 16\u001b[0m\n\u001b[0;32m     14\u001b[0m     freq, val \u001b[38;5;241m=\u001b[39m envelope((freqs, spectrum))\n\u001b[0;32m     15\u001b[0m     envelope_groups[group_idx]\u001b[38;5;241m.\u001b[39mappend((freq, val))\n\u001b[1;32m---> 16\u001b[0m freqs, vals \u001b[38;5;241m=\u001b[39m \u001b[43menvelope_groups\u001b[49m\u001b[43m[\u001b[49m\u001b[43mgroup_idx\u001b[49m\u001b[43m]\u001b[49m\u001b[43m[\u001b[49m\u001b[38;5;241;43m0\u001b[39;49m\u001b[43m]\u001b[49m\n\u001b[0;32m     17\u001b[0m plt\u001b[38;5;241m.\u001b[39mfigure(figsize\u001b[38;5;241m=\u001b[39m(\u001b[38;5;241m6\u001b[39m, \u001b[38;5;241m3\u001b[39m))\n\u001b[0;32m     18\u001b[0m plt\u001b[38;5;241m.\u001b[39mplot(spectrum_vect[\u001b[38;5;241m0\u001b[39m][\u001b[38;5;241m0\u001b[39m], spectrum_vect[\u001b[38;5;241m0\u001b[39m][\u001b[38;5;241m1\u001b[39m], label\u001b[38;5;241m=\u001b[39m\u001b[38;5;124m\"\u001b[39m\u001b[38;5;124mSpectrum\u001b[39m\u001b[38;5;124m\"\u001b[39m)\n",
      "\u001b[1;31mIndexError\u001b[0m: list index out of range"
     ]
    }
   ],
   "source": [
    "def envelope(signal_tuple, fs=sr):\n",
    "    freqs, spectrum = signal_tuple\n",
    "    analytic_signal = hilbert(spectrum)\n",
    "    amplitude_envelope = np.abs(analytic_signal)\n",
    "    return freqs, amplitude_envelope\n",
    "\n",
    "envelope_groups = [[],[],[]]\n",
    "for group_idx in range(len(file_groups)):\n",
    "    files = file_groups[group_idx]\n",
    "    spectrum_vect = spectrum_groups[group_idx]\n",
    "\n",
    "    # Limit to just the first sample from each group\n",
    "    for i, (freqs, spectrum) in enumerate(spectrum_vect):\n",
    "        freq, val = envelope((freqs, spectrum))\n",
    "        envelope_groups[group_idx].append((freq, val))\n",
    "    freqs, vals = envelope_groups[group_idx][0]\n",
    "    plt.figure(figsize=(6, 3))\n",
    "    plt.plot(spectrum_vect[0][0], spectrum_vect[0][1], label=\"Spectrum\")\n",
    "    plt.plot(freqs, vals, color='red', label=\"Peaks\")\n",
    "    plt.title(files[i])\n",
    "    plt.xlabel(\"Frequency (Hz)\")\n",
    "    plt.ylabel(\"Amplitude\")\n",
    "    plt.grid()\n",
    "    plt.legend()\n",
    "    plt.show()"
   ]
  },
  {
   "cell_type": "markdown",
   "metadata": {},
   "source": [
    "## energy per band\n"
   ]
  },
  {
   "cell_type": "code",
   "execution_count": null,
   "metadata": {},
   "outputs": [
    {
     "ename": "IndexError",
     "evalue": "list index out of range",
     "output_type": "error",
     "traceback": [
      "\u001b[1;31m---------------------------------------------------------------------------\u001b[0m",
      "\u001b[1;31mIndexError\u001b[0m                                Traceback (most recent call last)",
      "Cell \u001b[1;32mIn[10], line 26\u001b[0m\n\u001b[0;32m     23\u001b[0m     energy_groups[group_idx]\u001b[38;5;241m.\u001b[39mappend((band_frequencies, band_energies))\n\u001b[0;32m     25\u001b[0m \u001b[38;5;66;03m# Plot energy per band for the first sample in the group\u001b[39;00m\n\u001b[1;32m---> 26\u001b[0m band_freqs, band_energies \u001b[38;5;241m=\u001b[39m \u001b[43menergy_groups\u001b[49m\u001b[43m[\u001b[49m\u001b[43mgroup_idx\u001b[49m\u001b[43m]\u001b[49m\u001b[43m[\u001b[49m\u001b[38;5;241;43m0\u001b[39;49m\u001b[43m]\u001b[49m\n\u001b[0;32m     27\u001b[0m plt\u001b[38;5;241m.\u001b[39mfigure(figsize\u001b[38;5;241m=\u001b[39m(\u001b[38;5;241m6\u001b[39m, \u001b[38;5;241m3\u001b[39m))\n\u001b[0;32m     28\u001b[0m plt\u001b[38;5;241m.\u001b[39mbar(band_freqs, band_energies, width\u001b[38;5;241m=\u001b[39mband_width \u001b[38;5;241m*\u001b[39m \u001b[38;5;241m0.8\u001b[39m, align\u001b[38;5;241m=\u001b[39m\u001b[38;5;124m'\u001b[39m\u001b[38;5;124mcenter\u001b[39m\u001b[38;5;124m'\u001b[39m, alpha\u001b[38;5;241m=\u001b[39m\u001b[38;5;241m0.7\u001b[39m)\n",
      "\u001b[1;31mIndexError\u001b[0m: list index out of range"
     ]
    }
   ],
   "source": [
    "def energy_per_frequency_band_from_spectrum(spectrum, freqs, band_width):\n",
    "    # Calculate energy per band\n",
    "    band_energies = []\n",
    "    band_frequencies = []\n",
    "    for start_freq in range(0, int(freqs[-1]), band_width):\n",
    "        end_freq = start_freq + band_width\n",
    "        band_indices = np.where((freqs >= start_freq) & (freqs < end_freq))[0]\n",
    "        band_energy = np.sum(spectrum[band_indices]**2)  # Sum of squared magnitudes\n",
    "        band_energies.append(band_energy)\n",
    "        band_frequencies.append((start_freq + end_freq) / 2)  # Center frequency of the band\n",
    "\n",
    "    return band_energies, band_frequencies\n",
    "\n",
    "band_width = 50  # Band width in Hz\n",
    "energy_groups = [[], [], []]\n",
    "for group_idx in range(len(file_groups)):\n",
    "    files = file_groups[group_idx]\n",
    "    spectrum_vect = spectrum_groups[group_idx]\n",
    "\n",
    "    # Calculate energy per band for each spectrum\n",
    "    for i, (freqs, spectrum) in enumerate(spectrum_vect):\n",
    "        band_energies, band_frequencies = energy_per_frequency_band_from_spectrum(spectrum, freqs, band_width)\n",
    "        energy_groups[group_idx].append((band_frequencies, band_energies))\n",
    "\n",
    "    # Plot energy per band for the first sample in the group\n",
    "    band_freqs, band_energies = energy_groups[group_idx][0]\n",
    "    plt.figure(figsize=(6, 3))\n",
    "    plt.bar(band_freqs, band_energies, width=band_width * 0.8, align='center', alpha=0.7)\n",
    "    plt.title(f\"Energy per Band - {files[0]}\")\n",
    "    plt.xlabel(\"Frequency (Hz)\")\n",
    "    plt.ylabel(\"Energy\")\n",
    "    plt.grid()\n",
    "    plt.show()\n"
   ]
  },
  {
   "cell_type": "markdown",
   "metadata": {},
   "source": [
    "## mfcc's"
   ]
  },
  {
   "cell_type": "code",
   "execution_count": null,
   "metadata": {},
   "outputs": [
    {
     "ename": "IndexError",
     "evalue": "list index out of range",
     "output_type": "error",
     "traceback": [
      "\u001b[1;31m---------------------------------------------------------------------------\u001b[0m",
      "\u001b[1;31mIndexError\u001b[0m                                Traceback (most recent call last)",
      "Cell \u001b[1;32mIn[11], line 8\u001b[0m\n\u001b[0;32m      5\u001b[0m     mfccs \u001b[38;5;241m=\u001b[39m librosa\u001b[38;5;241m.\u001b[39mfeature\u001b[38;5;241m.\u001b[39mmfcc(y\u001b[38;5;241m=\u001b[39msignal, sr\u001b[38;5;241m=\u001b[39msr, n_mfcc\u001b[38;5;241m=\u001b[39mn_mfcc)\n\u001b[0;32m      6\u001b[0m     \u001b[38;5;28;01mreturn\u001b[39;00m mfccs\n\u001b[1;32m----> 8\u001b[0m mfccs \u001b[38;5;241m=\u001b[39m mfccs_from_csv(\u001b[43mp1_csv_vect\u001b[49m\u001b[43m[\u001b[49m\u001b[38;5;241;43m0\u001b[39;49m\u001b[43m]\u001b[49m)\n\u001b[0;32m      9\u001b[0m \u001b[38;5;28mprint\u001b[39m(mfccs)\n",
      "\u001b[1;31mIndexError\u001b[0m: list index out of range"
     ]
    }
   ],
   "source": [
    "import librosa\n",
    "\n",
    "def mfccs_from_csv(channel, sr=sr, n_mfcc=13):\n",
    "    signal = channel.iloc[:, 0].values  # vibration data\n",
    "    mfccs = librosa.feature.mfcc(y=signal, sr=sr, n_mfcc=n_mfcc)\n",
    "    return mfccs\n",
    "\n",
    "mfccs = mfccs_from_csv(p1_csv_vect[0])\n",
    "print(mfccs)"
   ]
  },
  {
   "cell_type": "markdown",
   "metadata": {},
   "source": [
    "## Main "
   ]
  },
  {
   "cell_type": "code",
   "execution_count": 18,
   "metadata": {},
   "outputs": [
    {
     "name": "stdout",
     "output_type": "stream",
     "text": [
      "bw 10\n"
     ]
    },
    {
     "ename": "ValueError",
     "evalue": "max() arg is an empty sequence",
     "output_type": "error",
     "traceback": [
      "\u001b[1;31m---------------------------------------------------------------------------\u001b[0m",
      "\u001b[1;31mValueError\u001b[0m                                Traceback (most recent call last)",
      "Cell \u001b[1;32mIn[18], line 27\u001b[0m\n\u001b[0;32m     24\u001b[0m             Y_Label\u001b[38;5;241m.\u001b[39mappend(racketType)\n\u001b[0;32m     26\u001b[0m \u001b[38;5;66;03m# Pad vectors to the same length\u001b[39;00m\n\u001b[1;32m---> 27\u001b[0m max_length \u001b[38;5;241m=\u001b[39m \u001b[38;5;28mmax\u001b[39m(\u001b[38;5;28;43mmax\u001b[39;49m\u001b[43m(\u001b[49m\u001b[38;5;28;43mlen\u001b[39;49m\u001b[43m(\u001b[49m\u001b[43mp\u001b[49m\u001b[43m)\u001b[49m\u001b[43m \u001b[49m\u001b[38;5;28;43;01mfor\u001b[39;49;00m\u001b[43m \u001b[49m\u001b[43mp\u001b[49m\u001b[43m \u001b[49m\u001b[38;5;129;43;01min\u001b[39;49;00m\u001b[43m \u001b[49m\u001b[43mX_enerfyFreq\u001b[49m\u001b[43m)\u001b[49m, \u001b[38;5;28mmax\u001b[39m(\u001b[38;5;28mlen\u001b[39m(a) \u001b[38;5;28;01mfor\u001b[39;00m a \u001b[38;5;129;01min\u001b[39;00m X_energyValue))\n\u001b[0;32m     28\u001b[0m X_peaksFreq_padded \u001b[38;5;241m=\u001b[39m [np\u001b[38;5;241m.\u001b[39mpad(p, (\u001b[38;5;241m0\u001b[39m, max_length \u001b[38;5;241m-\u001b[39m \u001b[38;5;28mlen\u001b[39m(p)), constant_values\u001b[38;5;241m=\u001b[39m\u001b[38;5;241m0\u001b[39m) \u001b[38;5;28;01mfor\u001b[39;00m p \u001b[38;5;129;01min\u001b[39;00m X_enerfyFreq]\n\u001b[0;32m     29\u001b[0m X_peaksAmplitude_padded \u001b[38;5;241m=\u001b[39m [np\u001b[38;5;241m.\u001b[39mpad(a, (\u001b[38;5;241m0\u001b[39m, max_length \u001b[38;5;241m-\u001b[39m \u001b[38;5;28mlen\u001b[39m(a)), constant_values\u001b[38;5;241m=\u001b[39m\u001b[38;5;241m0\u001b[39m) \u001b[38;5;28;01mfor\u001b[39;00m a \u001b[38;5;129;01min\u001b[39;00m X_energyValue]\n",
      "\u001b[1;31mValueError\u001b[0m: max() arg is an empty sequence"
     ]
    }
   ],
   "source": [
    "raquetteTypeList = {\"RB\": 0, \"RO\": 1, \"RR\": 2, \"RV\": 3}\n",
    "results = []\n",
    "\n",
    "# Loop over different peak counts (e.g., 5, 10, 15, 20, 25)\n",
    "for i in range(1, 10):\n",
    "    bw = i * 10\n",
    "    print(\"bw\", bw)\n",
    "\n",
    "    X_enerfyFreq = []\n",
    "    X_energyValue = []\n",
    "    Y_Label = []\n",
    "\n",
    "    spectra = spectrum_groups[0]\n",
    "\n",
    "    # Loop through each sample\n",
    "    for j, (freqs, spectrum) in enumerate(spectra):\n",
    "        for racketType in raquetteTypeList:\n",
    "            if racketType in files[j]:\n",
    "                # Extract N peaks\n",
    "                energy_freq, energy_value = energy_per_frequency_band_from_spectrum(freqs, spectrum, bw)\n",
    "\n",
    "                X_enerfyFreq.append(energy_freq)\n",
    "                X_energyValue.append(energy_value)\n",
    "                Y_Label.append(racketType)\n",
    "\n",
    "    # Pad vectors to the same length\n",
    "    max_length = max(max(len(p) for p in X_enerfyFreq), max(len(a) for a in X_energyValue))\n",
    "    X_peaksFreq_padded = [np.pad(p, (0, max_length - len(p)), constant_values=0) for p in X_enerfyFreq]\n",
    "    X_peaksAmplitude_padded = [np.pad(a, (0, max_length - len(a)), constant_values=0) for a in X_energyValue]\n",
    "\n",
    "    # Combine features\n",
    "    X = np.hstack((np.array(X_peaksFreq_padded), np.array(X_peaksAmplitude_padded)))\n",
    "\n",
    "    # Encode labels\n",
    "    label_encoder = LabelEncoder()\n",
    "    Y = label_encoder.fit_transform(Y_Label)\n",
    "\n",
    "    # Train/test split\n",
    "    X_train, X_test, y_train, y_test = train_test_split(X, Y, test_size=0.2, random_state=None, shuffle=True)\n",
    "\n",
    "    # KNN hyperparameter grid search\n",
    "    for n_neighbors in range(1, 21):\n",
    "        for weights in ['uniform', 'distance']:\n",
    "            for metric in ['euclidean', 'manhattan', 'chebyshev', 'minkowski']:\n",
    "                knn = KNeighborsClassifier(n_neighbors=n_neighbors, weights=weights, metric=metric)\n",
    "                knn.fit(X_train, y_train)\n",
    "\n",
    "                y_pred = knn.predict(X_test)\n",
    "                accuracy_test = accuracy_score(y_test, y_pred)\n",
    "\n",
    "                y_train_pred = knn.predict(X_train)\n",
    "                accuracy_train = accuracy_score(y_train, y_train_pred)\n",
    "\n",
    "                results.append({\n",
    "                    'bandwidth': bw,\n",
    "                    'n_neighbors': n_neighbors,\n",
    "                    'weights': weights,\n",
    "                    'metric': metric,\n",
    "                    'accuracy_train': accuracy_train,\n",
    "                    'accuracy_test': accuracy_test\n",
    "                })\n",
    "\n",
    "# Save results\n",
    "results_df = pd.DataFrame(results)\n",
    "if os.path.exists(\"results.xlsx\"):\n",
    "    os.remove(\"results.xlsx\")\n",
    "results_df.to_excel(\"results.xlsx\", index=False)\n",
    "print(\"Results have been saved to 'results.xlsx'.\")\n"
   ]
  },
  {
   "cell_type": "markdown",
   "metadata": {},
   "source": [
    "Visualisation des données fournis au model"
   ]
  },
  {
   "cell_type": "code",
   "execution_count": null,
   "metadata": {},
   "outputs": [
    {
     "ename": "NameError",
     "evalue": "name 'results_df' is not defined",
     "output_type": "error",
     "traceback": [
      "\u001b[1;31m---------------------------------------------------------------------------\u001b[0m",
      "\u001b[1;31mNameError\u001b[0m                                 Traceback (most recent call last)",
      "Cell \u001b[1;32mIn[13], line 11\u001b[0m\n\u001b[0;32m      8\u001b[0m label_names \u001b[38;5;241m=\u001b[39m \u001b[38;5;28mlist\u001b[39m(raquetteTypeList\u001b[38;5;241m.\u001b[39mkeys())\n\u001b[0;32m     10\u001b[0m \u001b[38;5;66;03m# Extract best configuration from results\u001b[39;00m\n\u001b[1;32m---> 11\u001b[0m best_params \u001b[38;5;241m=\u001b[39m \u001b[43mresults_df\u001b[49m\u001b[38;5;241m.\u001b[39mloc[results_df[\u001b[38;5;124m'\u001b[39m\u001b[38;5;124maccuracy_test\u001b[39m\u001b[38;5;124m'\u001b[39m]\u001b[38;5;241m.\u001b[39midxmax()]\n\u001b[0;32m     12\u001b[0m n_neighbors_best \u001b[38;5;241m=\u001b[39m \u001b[38;5;28mint\u001b[39m(best_params[\u001b[38;5;124m'\u001b[39m\u001b[38;5;124mn_neighbors\u001b[39m\u001b[38;5;124m'\u001b[39m])\n\u001b[0;32m     13\u001b[0m weights_best \u001b[38;5;241m=\u001b[39m best_params[\u001b[38;5;124m'\u001b[39m\u001b[38;5;124mweights\u001b[39m\u001b[38;5;124m'\u001b[39m]\n",
      "\u001b[1;31mNameError\u001b[0m: name 'results_df' is not defined"
     ]
    }
   ],
   "source": [
    "from sklearn.metrics import confusion_matrix, classification_report\n",
    "import seaborn as sns\n",
    "\n",
    "# Define frequency bands\n",
    "frequency_bands = [(0, 200), (200, 400), (400, 600), (600, 800), (800, 1000)]  # Example bands in Hz\n",
    "colors = ['red', 'blue', 'green', 'orange']  # RB, RO, RR, RV\n",
    "raquetteTypeList = {\"RB\": 0, \"RO\": 1, \"RR\": 2, \"RV\": 3}\n",
    "label_names = list(raquetteTypeList.keys())\n",
    "\n",
    "# Extract best configuration from results\n",
    "best_params = results_df.loc[results_df['accuracy_test'].idxmax()]\n",
    "n_neighbors_best = int(best_params['n_neighbors'])\n",
    "weights_best = best_params['weights']\n",
    "metric_best = best_params['metric']\n",
    "\n",
    "print(\"\\nBest KNN Parameters:\")\n",
    "print(f\"bandwidth: {best_params['bandwidth']}\")\n",
    "print(f\"n_neighbors: {n_neighbors_best}\")\n",
    "print(f\"weights: {weights_best}\")\n",
    "print(f\"metric: {metric_best}\")\n",
    "print(f\"Train Accuracy: {best_params['accuracy_train']:.4f}\")\n",
    "print(f\"Test Accuracy: {best_params['accuracy_test']:.4f}\")\n",
    "\n",
    "# Rebuild data with energy per band\n",
    "X_energyBands = []\n",
    "Y_Label = []\n",
    "\n",
    "for group_idx in range(len(spectrum_groups)):\n",
    "    files = file_groups[group_idx]\n",
    "    spectra = spectrum_groups[group_idx]\n",
    "    \n",
    "    for j, (freqs, spectrum) in enumerate(spectra):\n",
    "        for racketType in raquetteTypeList:\n",
    "            if racketType in files[j]:\n",
    "                energy_bands = []\n",
    "                for band in frequency_bands:\n",
    "                    band_energy = np.sum(spectrum[(freqs >= band[0]) & (freqs < band[1])])\n",
    "                    energy_bands.append(band_energy)\n",
    "                X_energyBands.append(energy_bands)\n",
    "                Y_Label.append(racketType)\n",
    "\n",
    "X_energyBands = np.array(X_energyBands)\n",
    "X_energyBands = X_energyBands / np.max(X_energyBands, axis=0)  # Normalize per band\n",
    "label_encoder = LabelEncoder()\n",
    "Y = label_encoder.fit_transform(Y_Label)\n",
    "\n",
    "X_train, X_test, y_train, y_test = train_test_split(X_energyBands, Y, test_size=0.2, random_state=None, shuffle=True)\n",
    "\n",
    "# Train best KNN model\n",
    "knn = KNeighborsClassifier(n_neighbors=n_neighbors_best, weights=weights_best, metric=metric_best)\n",
    "knn.fit(X_train, y_train)\n",
    "y_pred = knn.predict(X_test)\n",
    "\n",
    "# ---------- Confusion Matrix ----------\n",
    "plt.figure(figsize=(8, 6))\n",
    "cm = confusion_matrix(y_test, y_pred)\n",
    "sns.heatmap(cm, annot=True, fmt='d', cmap='Blues', xticklabels=label_names, yticklabels=label_names)\n",
    "plt.title('Confusion Matrix')\n",
    "plt.xlabel('Predicted Label')\n",
    "plt.ylabel('True Label')\n",
    "plt.show()\n",
    "\n",
    "# ---------- Classification Report ----------\n",
    "print(\"Classification Report:\")\n",
    "print(classification_report(y_test, y_pred, target_names=label_names))\n"
   ]
  },
  {
   "cell_type": "code",
   "execution_count": null,
   "metadata": {},
   "outputs": [],
   "source": []
  }
 ],
 "metadata": {
  "kernelspec": {
   "display_name": "IAConda",
   "language": "python",
   "name": "python3"
  },
  "language_info": {
   "codemirror_mode": {
    "name": "ipython",
    "version": 3
   },
   "file_extension": ".py",
   "mimetype": "text/x-python",
   "name": "python",
   "nbconvert_exporter": "python",
   "pygments_lexer": "ipython3",
   "version": "3.8.15"
  }
 },
 "nbformat": 4,
 "nbformat_minor": 2
}
