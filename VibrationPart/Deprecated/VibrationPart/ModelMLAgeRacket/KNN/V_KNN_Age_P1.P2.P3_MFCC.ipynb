{
 "cells": [
  {
   "cell_type": "markdown",
   "metadata": {},
   "source": [
    "# KNN Model for predicting Age with Energy - Vibration"
   ]
  },
  {
   "cell_type": "markdown",
   "metadata": {},
   "source": [
    "### Import libraries"
   ]
  },
  {
   "cell_type": "code",
   "execution_count": 17,
   "metadata": {},
   "outputs": [],
   "source": [
    "import os\n",
    "import glob\n",
    "import pandas as pd\n",
    "from sklearn.preprocessing import LabelEncoder\n",
    "from scipy.io import wavfile\n",
    "from scipy.fft import fft\n",
    "import matplotlib.pyplot as plt\n",
    "import numpy as np\n",
    "from sklearn.model_selection import train_test_split\n",
    "from sklearn.neighbors import KNeighborsClassifier\n",
    "from scipy.signal import find_peaks\n",
    "import librosa\n",
    "from sklearn.metrics import accuracy_score\n",
    "from sklearn.metrics import accuracy_score\n",
    "# import openpyxl"
   ]
  },
  {
   "cell_type": "markdown",
   "metadata": {},
   "source": [
    "### Import Tools Functions"
   ]
  },
  {
   "cell_type": "markdown",
   "metadata": {},
   "source": [
    "Readwav function"
   ]
  },
  {
   "cell_type": "code",
   "execution_count": 18,
   "metadata": {},
   "outputs": [],
   "source": [
    "from Functions.readAllFileVibration import readAllFileVibration\n",
    "\n",
    "# P1 = readAllFileVibration(\"../../Data_Clean/Chanel0_Data_Columns/P1_clean\")"
   ]
  },
  {
   "cell_type": "markdown",
   "metadata": {},
   "source": [
    "Spectrum"
   ]
  },
  {
   "cell_type": "code",
   "execution_count": 19,
   "metadata": {},
   "outputs": [],
   "source": [
    "from Functions.spectrumFromSignal import spectrumFromSignal\n",
    "\n",
    "# print(P1)\n",
    "\n",
    "# testData = P1[0][1].to_numpy()\n",
    "# # print(testData)\n",
    "# testDataSpectrum, freqTest = spectrumFromSignal(testData, 20000)"
   ]
  },
  {
   "cell_type": "markdown",
   "metadata": {},
   "source": [
    "Plot Spectrum"
   ]
  },
  {
   "cell_type": "code",
   "execution_count": 20,
   "metadata": {},
   "outputs": [],
   "source": [
    "from Functions.plot_spectrum_with_freq import plot_spectrum_with_freq\n",
    "\n",
    "# Example usage\n",
    "# plot_spectrum_with_freq(testDataSpectrum, freqTest, title=\"Spectrum of Test Data\")\n"
   ]
  },
  {
   "cell_type": "markdown",
   "metadata": {},
   "source": [
    "Energy"
   ]
  },
  {
   "cell_type": "code",
   "execution_count": null,
   "metadata": {},
   "outputs": [],
   "source": [
    "\n",
    "\n"
   ]
  },
  {
   "cell_type": "markdown",
   "metadata": {},
   "source": [
    "# Main"
   ]
  },
  {
   "cell_type": "code",
   "execution_count": 21,
   "metadata": {},
   "outputs": [
    {
     "name": "stdout",
     "output_type": "stream",
     "text": [
      "216 324 255\n",
      "                                              Spectrum Label Age\n",
      "0    [5415.435319490299, 3187.673624625387, 2567.48...    RB  P1\n",
      "1    [3574.0039456266313, 2253.172677296551, 2189.4...    RB  P1\n",
      "2    [4336.317505980091, 2636.183071505374, 2297.29...    RB  P1\n",
      "3    [7218.047965980523, 4371.60331681831, 3234.473...    RB  P1\n",
      "4    [6351.72555524914, 3431.4594161592727, 3006.71...    RB  P1\n",
      "..                                                 ...   ...  ..\n",
      "643  [5836.786813198334, 5338.783594267168, 4861.72...    RV  P3\n",
      "644  [5622.544885395455, 5094.665026104518, 4655.36...    RV  P3\n",
      "645  [5630.589450958037, 5045.113429470839, 4640.37...    RV  P3\n",
      "646  [4352.537884533889, 3104.609413841152, 3005.97...    RV  P3\n",
      "647  [5811.7086478063, 5341.56190848496, 5060.81685...    RV  P3\n",
      "\n",
      "[648 rows x 3 columns]\n"
     ]
    }
   ],
   "source": [
    "raquetteTypeList = {\"RB\":0,\"RO\":1,\"RR\":2,\"RV\":3}\n",
    "raquetteAgeList = {\"P1\":1,\"P2\":2,\"P3\":3}\n",
    "\n",
    "\n",
    "\n",
    "sampleRateFolderP1=[]\n",
    "sampleRateFolderP2=[]\n",
    "sampleRateFolderP3=[]\n",
    "\n",
    "P1=readAllFileVibration(\"../../Data_Clean/Chanel0_Data_Columns/P1_clean\")\n",
    "P2=readAllFileVibration(\"../../Data_Clean/Chanel0_Data_Columns/P2_clean\")\n",
    "P3=readAllFileVibration(\"../../Data_Clean/Chanel0_Data_Columns/P3_clean\")\n",
    "\n",
    "print(len(P1),len(P2),len(P3))\n",
    "\n",
    "\n",
    "# Combine all data into a single DataFrame with equal repartition of ages\n",
    "all_data = []\n",
    "\n",
    "# Find the minimum number of samples across all ages\n",
    "min_samples_per_age = min(len(P1), len(P2), len(P3))\n",
    "\n",
    "# Limit the data for each age to the minimum number of samples\n",
    "for dataset, age in zip([P1[:min_samples_per_age], P2[:min_samples_per_age], P3[:min_samples_per_age]], [\"P1\", \"P2\", \"P3\"]):\n",
    "    for item in dataset:\n",
    "        label, df = item  # Unpack the tuple\n",
    "        spectrum_points,freqs = spectrumFromSignal(np.array(df), 20000)\n",
    "        all_data.append({\n",
    "            \"Spectrum\": spectrum_points,\n",
    "            \"Label\": label,\n",
    "            \"Age\": age\n",
    "        })\n",
    "\n",
    "# Convert the list of dictionaries into a DataFrame\n",
    "df_combined = pd.DataFrame(all_data)\n",
    "print(df_combined)\n",
    "\n",
    "\n"
   ]
  },
  {
   "cell_type": "code",
   "execution_count": 22,
   "metadata": {},
   "outputs": [
    {
     "name": "stderr",
     "output_type": "stream",
     "text": [
      "c:\\Users\\hugom\\anaconda3\\envs\\IAConda\\lib\\site-packages\\librosa\\core\\spectrum.py:266: UserWarning: n_fft=2048 is too large for input signal of length=102\n",
      "  warnings.warn(\n"
     ]
    },
    {
     "name": "stdout",
     "output_type": "stream",
     "text": [
      "                                              Spectrum Label Age  \\\n",
      "0    [5415.435319490299, 3187.673624625387, 2567.48...    RB  P1   \n",
      "1    [3574.0039456266313, 2253.172677296551, 2189.4...    RB  P1   \n",
      "2    [4336.317505980091, 2636.183071505374, 2297.29...    RB  P1   \n",
      "3    [7218.047965980523, 4371.60331681831, 3234.473...    RB  P1   \n",
      "4    [6351.72555524914, 3431.4594161592727, 3006.71...    RB  P1   \n",
      "..                                                 ...   ...  ..   \n",
      "643  [5836.786813198334, 5338.783594267168, 4861.72...    RV  P3   \n",
      "644  [5622.544885395455, 5094.665026104518, 4655.36...    RV  P3   \n",
      "645  [5630.589450958037, 5045.113429470839, 4640.37...    RV  P3   \n",
      "646  [4352.537884533889, 3104.609413841152, 3005.97...    RV  P3   \n",
      "647  [5811.7086478063, 5341.56190848496, 5060.81685...    RV  P3   \n",
      "\n",
      "                                                  MFCC  \n",
      "0    [[865.8340056509588], [102.73581775994762], [-...  \n",
      "1    [[866.9978222482766], [111.87217289307742], [-...  \n",
      "2    [[879.7900988844897], [104.44765485782551], [-...  \n",
      "3    [[839.1293036264701], [73.77126589792039], [15...  \n",
      "4    [[834.8716058196087], [75.8839001973775], [13....  \n",
      "..                                                 ...  \n",
      "643  [[897.0141929159705], [118.38261495118634], [-...  \n",
      "644  [[898.1674355841812], [117.98388016787908], [-...  \n",
      "645  [[907.7513078903083], [124.58249293763907], [-...  \n",
      "646  [[901.4782881782461], [122.62194351915147], [-...  \n",
      "647  [[897.8968910917564], [116.8796840236561], [-2...  \n",
      "\n",
      "[648 rows x 4 columns]\n"
     ]
    }
   ],
   "source": [
    "# Define the band width\n",
    "band_width = 20\n",
    "\n",
    "# Compute MFCCs for each row in the DataFrame\n",
    "df_combined['MFCC'] = df_combined['Spectrum'].apply(\n",
    "    lambda spectrum: librosa.feature.mfcc(y=np.array(spectrum), sr=20000, n_mfcc=band_width)\n",
    ")\n",
    "\n",
    "print(df_combined)"
   ]
  },
  {
   "cell_type": "code",
   "execution_count": 35,
   "metadata": {},
   "outputs": [
    {
     "name": "stdout",
     "output_type": "stream",
     "text": [
      "[[ 8.65834006e+02  1.02735818e+02 -5.58310878e+00 ...  3.57264477e+00\n",
      "  -9.40804777e-01 -3.31641589e+00]\n",
      " [ 8.66997822e+02  1.11872173e+02 -7.58850000e+00 ...  8.40398656e-01\n",
      "  -1.29711622e+00  9.78661035e-03]\n",
      " [ 8.79790099e+02  1.04447655e+02 -6.54449577e+00 ...  1.56512072e+00\n",
      "  -1.67301299e+00 -2.55992413e+00]\n",
      " ...\n",
      " [ 9.07751308e+02  1.24582493e+02 -9.56543213e+00 ... -1.19774535e+00\n",
      "   1.64411517e+00 -2.43886242e+00]\n",
      " [ 9.01478288e+02  1.22621944e+02 -9.09073631e+00 ...  3.50796961e+00\n",
      "   2.42570093e+00 -5.11273770e+00]\n",
      " [ 8.97896891e+02  1.16879684e+02 -2.65517940e+00 ...  7.34558100e-02\n",
      "   8.66041041e+00  1.17185306e+00]] [0 0 0 0 0 0 0 0 0 0 0 0 0 0 0 0 0 0 0 0 0 0 0 0 0 0 0 0 0 0 0 0 0 0 0 0 0\n",
      " 0 0 0 0 0 0 0 0 0 0 0 0 0 0 0 0 0 0 0 0 0 0 0 0 0 0 0 0 0 0 0 0 0 0 0 0 0\n",
      " 0 0 0 0 0 0 0 0 0 0 0 0 0 0 0 0 0 0 0 0 0 0 0 0 0 0 0 0 0 0 0 0 0 0 0 0 0\n",
      " 0 0 0 0 0 0 0 0 0 0 0 0 0 0 0 0 0 0 0 0 0 0 0 0 0 0 0 0 0 0 0 0 0 0 0 0 0\n",
      " 0 0 0 0 0 0 0 0 0 0 0 0 0 0 0 0 0 0 0 0 0 0 0 0 0 0 0 0 0 0 0 0 0 0 0 0 0\n",
      " 0 0 0 0 0 0 0 0 0 0 0 0 0 0 0 0 0 0 0 0 0 0 0 0 0 0 0 0 0 0 0 1 1 1 1 1 1\n",
      " 1 1 1 1 1 1 1 1 1 1 1 1 1 1 1 1 1 1 1 1 1 1 1 1 1 1 1 1 1 1 1 1 1 1 1 1 1\n",
      " 1 1 1 1 1 1 1 1 1 1 1 1 1 1 1 1 1 1 1 1 1 1 1 1 1 1 1 1 1 1 1 1 1 1 1 1 1\n",
      " 1 1 1 1 1 1 1 1 1 1 1 1 1 1 1 1 1 1 1 1 1 1 1 1 1 1 1 1 1 1 1 1 1 1 1 1 1\n",
      " 1 1 1 1 1 1 1 1 1 1 1 1 1 1 1 1 1 1 1 1 1 1 1 1 1 1 1 1 1 1 1 1 1 1 1 1 1\n",
      " 1 1 1 1 1 1 1 1 1 1 1 1 1 1 1 1 1 1 1 1 1 1 1 1 1 1 1 1 1 1 1 1 1 1 1 1 1\n",
      " 1 1 1 1 1 1 1 1 1 1 1 1 1 1 1 1 1 1 1 1 1 1 1 1 1 2 2 2 2 2 2 2 2 2 2 2 2\n",
      " 2 2 2 2 2 2 2 2 2 2 2 2 2 2 2 2 2 2 2 2 2 2 2 2 2 2 2 2 2 2 2 2 2 2 2 2 2\n",
      " 2 2 2 2 2 2 2 2 2 2 2 2 2 2 2 2 2 2 2 2 2 2 2 2 2 2 2 2 2 2 2 2 2 2 2 2 2\n",
      " 2 2 2 2 2 2 2 2 2 2 2 2 2 2 2 2 2 2 2 2 2 2 2 2 2 2 2 2 2 2 2 2 2 2 2 2 2\n",
      " 2 2 2 2 2 2 2 2 2 2 2 2 2 2 2 2 2 2 2 2 2 2 2 2 2 2 2 2 2 2 2 2 2 2 2 2 2\n",
      " 2 2 2 2 2 2 2 2 2 2 2 2 2 2 2 2 2 2 2 2 2 2 2 2 2 2 2 2 2 2 2 2 2 2 2 2 2\n",
      " 2 2 2 2 2 2 2 2 2 2 2 2 2 2 2 2 2 2 2]\n"
     ]
    }
   ],
   "source": [
    "# Combine features into X\n",
    "X = np.array([mfcc.flatten() for mfcc in df_combined[\"MFCC\"]])\n",
    "\n",
    "\n",
    "# Encode string labels into integers\n",
    "label_encoder = LabelEncoder()\n",
    "y = label_encoder.fit_transform(df_combined[\"Age\"])\n",
    "\n",
    "# # print(y)\n",
    "# print(len(X),len(y))\n",
    "\n",
    "# Diviser les données en ensembles d'entraînement et de test\n",
    "X_train, X_test, y_train, y_test = train_test_split(X, y, test_size=0.2, random_state=42)\n",
    "\n",
    "print(X,y)\n"
   ]
  },
  {
   "cell_type": "code",
   "execution_count": 24,
   "metadata": {},
   "outputs": [
    {
     "name": "stdout",
     "output_type": "stream",
     "text": [
      "     n_neighbors   weights     metric  accuracy_train  accuracy_test\n",
      "0              1   uniform  euclidean        1.000000       0.969231\n",
      "1              1   uniform  manhattan        1.000000       0.961538\n",
      "2              1   uniform  chebyshev        1.000000       0.953846\n",
      "3              1   uniform  minkowski        1.000000       0.969231\n",
      "4              1  distance  euclidean        1.000000       0.969231\n",
      "..           ...       ...        ...             ...            ...\n",
      "155           20   uniform  minkowski        0.820463       0.753846\n",
      "156           20  distance  euclidean        1.000000       0.892308\n",
      "157           20  distance  manhattan        1.000000       0.830769\n",
      "158           20  distance  chebyshev        1.000000       0.861538\n",
      "159           20  distance  minkowski        1.000000       0.892308\n",
      "\n",
      "[160 rows x 5 columns]\n"
     ]
    }
   ],
   "source": [
    "# Définir les bonnes valeurs trouvé\n",
    "n_neighbors = 10  # Nombre de voisins\n",
    "weights_options = ['uniform']  # Méthode de pondération\n",
    "metric_options = ['manhattan']  # Métriques\n",
    "\n",
    "\n",
    "# Définir les plages de valeurs pour les hyperparamètres\n",
    "n_neighbors_range = range(1, 21)  # Nombre de voisins\n",
    "weights_options = ['uniform', 'distance']  # Méthode de pondération\n",
    "metric_options = ['euclidean', 'manhattan', 'chebyshev', 'minkowski']  # Métriques\n",
    "\n",
    "# Liste pour stocker les résultats\n",
    "results = []\n",
    "\n",
    "\n",
    "# Tester toutes les combinaisons d'hyperparamètres\n",
    "for n_neighbors in n_neighbors_range:\n",
    "    for weights in weights_options:\n",
    "        for metric in metric_options:\n",
    "            # Créer et entraîner le modèle KNN\n",
    "            knn = KNeighborsClassifier(n_neighbors=n_neighbors, weights=weights, metric=metric)\n",
    "            knn.fit(X_train, y_train)\n",
    "\n",
    "            # Évaluer sur l'ensemble de test\n",
    "            y_pred = knn.predict(X_test)\n",
    "            accuracy_test = accuracy_score(y_test, y_pred)\n",
    "\n",
    "            # Évaluer sur l'ensemble d'entraînement\n",
    "            y_train_pred = knn.predict(X_train)\n",
    "            accuracy_train = accuracy_score(y_train, y_train_pred)\n",
    "\n",
    "            # Ajouter les résultats à la liste\n",
    "            results.append({\n",
    "                'n_neighbors': n_neighbors,\n",
    "                'weights': weights,\n",
    "                'metric': metric,\n",
    "                'accuracy_train': accuracy_train,\n",
    "                'accuracy_test': accuracy_test\n",
    "            })\n",
    "\n",
    "# Convertir les résultats en DataFrame\n",
    "results_df = pd.DataFrame(results)\n",
    "\n",
    "\n",
    "\n",
    "print(results_df)"
   ]
  },
  {
   "cell_type": "code",
   "execution_count": 34,
   "metadata": {},
   "outputs": [
    {
     "data": {
      "image/png": "[encoded data removed]",
      "text/plain": [
       "<Figure size 1000x600 with 2 Axes>"
      ]
     },
     "metadata": {},
     "output_type": "display_data"
    }
   ],
   "source": [
    "# Select a row to plot MFCC\n",
    "row_to_plot = df_combined.iloc[0]  # Change the index to select a different row\n",
    "\n",
    "# Extract MFCC data\n",
    "mfcc_data = np.array(row_to_plot['MFCC'])\n",
    "\n",
    "# Plot the MFCC\n",
    "plt.figure(figsize=(10, 6))\n",
    "plt.imshow(mfcc_data, aspect='auto', origin='lower', cmap='viridis')\n",
    "plt.colorbar(label='MFCC Coefficients')\n",
    "plt.title(f\"MFCC for Label: {row_to_plot['Label']}, Age: {row_to_plot['Age']}\")\n",
    "plt.xlabel('Time Frames')\n",
    "plt.ylabel('MFCC Coefficients')\n",
    "plt.show()"
   ]
  },
  {
   "cell_type": "code",
   "execution_count": 25,
   "metadata": {},
   "outputs": [
    {
     "data": {
      "image/png": "[encoded data removed]",
      "text/plain": [
       "<Figure size 640x480 with 2 Axes>"
      ]
     },
     "metadata": {},
     "output_type": "display_data"
    }
   ],
   "source": [
    "from sklearn.metrics import ConfusionMatrixDisplay\n",
    "\n",
    "# Afficher la matrice de confusion\n",
    "ConfusionMatrixDisplay.from_predictions(y_test, y_pred, display_labels=label_encoder.classes_)\n",
    "plt.title(\"Matrice de confusion\")\n",
    "plt.show()\n"
   ]
  }
 ],
 "metadata": {
  "kernelspec": {
   "display_name": "IAConda",
   "language": "python",
   "name": "python3"
  },
  "language_info": {
   "codemirror_mode": {
    "name": "ipython",
    "version": 3
   },
   "file_extension": ".py",
   "mimetype": "text/x-python",
   "name": "python",
   "nbconvert_exporter": "python",
   "pygments_lexer": "ipython3",
   "version": "3.8.15"
  }
 },
 "nbformat": 4,
 "nbformat_minor": 2
}
