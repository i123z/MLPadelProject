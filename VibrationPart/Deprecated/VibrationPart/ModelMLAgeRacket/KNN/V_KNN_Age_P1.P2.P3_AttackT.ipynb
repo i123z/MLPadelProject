{
 "cells": [
  {
   "cell_type": "markdown",
   "metadata": {},
   "source": [
    "# KNN Model for predicting Racket Type with Attack Time - Vibration"
   ]
  },
  {
   "cell_type": "markdown",
   "metadata": {},
   "source": [
    "### Import libraries"
   ]
  },
  {
   "cell_type": "code",
   "execution_count": null,
   "metadata": {},
   "outputs": [],
   "source": [
    "import os\n",
    "import glob\n",
    "import pandas as pd\n",
    "from sklearn.preprocessing import LabelEncoder\n",
    "from scipy.io import wavfile\n",
    "from scipy.fft import fft\n",
    "import matplotlib.pyplot as plt\n",
    "import numpy as np\n",
    "from sklearn.model_selection import train_test_split\n",
    "from sklearn.neighbors import KNeighborsClassifier\n",
    "from scipy.signal import find_peaks\n",
    "from sklearn.metrics import accuracy_score\n",
    "from sklearn.metrics import accuracy_score\n"
   ]
  },
  {
   "cell_type": "markdown",
   "metadata": {},
   "source": [
    "### Import Tools Functions"
   ]
  },
  {
   "cell_type": "markdown",
   "metadata": {},
   "source": [
    "Readcsv function"
   ]
  },
  {
   "cell_type": "code",
   "execution_count": null,
   "metadata": {},
   "outputs": [
    {
     "ename": "ModuleNotFoundError",
     "evalue": "No module named 'Functions'",
     "output_type": "error",
     "traceback": [
      "\u001b[1;31m---------------------------------------------------------------------------\u001b[0m",
      "\u001b[1;31mModuleNotFoundError\u001b[0m                       Traceback (most recent call last)",
      "Cell \u001b[1;32mIn[5], line 1\u001b[0m\n\u001b[1;32m----> 1\u001b[0m \u001b[38;5;28;01mfrom\u001b[39;00m \u001b[38;5;21;01mFunctions\u001b[39;00m\u001b[38;5;21;01m.\u001b[39;00m\u001b[38;5;21;01mreadWavFolder\u001b[39;00m \u001b[38;5;28;01mimport\u001b[39;00m readWavFolder\n\u001b[0;32m      3\u001b[0m \u001b[38;5;66;03m# P1 = readAllFileVibration(\"../../Data_Clean/Chanel0_Data_Columns/P1_clean\")\u001b[39;00m\n",
      "\u001b[1;31mModuleNotFoundError\u001b[0m: No module named 'Functions'"
     ]
    }
   ],
   "source": [
    "from Functions.readWavFolder import readWavFolder\n",
    "\n",
    "# P1 = readAllFileVibration(\"../../Data_Clean/Chanel0_Data_Columns/P1_clean\")"
   ]
  },
  {
   "cell_type": "markdown",
   "metadata": {},
   "source": [
    "Spectrum"
   ]
  },
  {
   "cell_type": "code",
   "execution_count": 6,
   "metadata": {},
   "outputs": [],
   "source": [
    "from Functions.spectrumFromSignal import spectrumFromSignal\n",
    "\n",
    "# testData = P1[0][1].to_numpy()\n",
    "# testDataSpectrum, freqTest = spectrumFromSignal(testData, 20000)"
   ]
  },
  {
   "cell_type": "markdown",
   "metadata": {},
   "source": [
    "Plot Spectrum"
   ]
  },
  {
   "cell_type": "code",
   "execution_count": 7,
   "metadata": {},
   "outputs": [],
   "source": [
    "from Functions.plot_spectrum_with_freq import plot_spectrum_with_freq\n",
    "\n",
    "# Example usage\n",
    "# plot_spectrum_with_freq(testDataSpectrum, freqTest, title=\"Spectrum of Test Data\")\n"
   ]
  },
  {
   "cell_type": "markdown",
   "metadata": {},
   "source": [
    "Extract each peak and store"
   ]
  },
  {
   "cell_type": "code",
   "execution_count": 8,
   "metadata": {},
   "outputs": [],
   "source": [
    "from Functions.extractNPeak import extractNPeak\n",
    "\n"
   ]
  },
  {
   "cell_type": "markdown",
   "metadata": {},
   "source": [
    "Attack Time"
   ]
  },
  {
   "cell_type": "code",
   "execution_count": 9,
   "metadata": {},
   "outputs": [],
   "source": [
    "def calculate_attack_time(signal, sample_rate, threshold=0.9):\n",
    "    # Ensure the signal is a 1-D array\n",
    "    signal = signal.flatten()\n",
    "\n",
    "    # Find the peak amplitude\n",
    "    peak_amplitude = np.max(signal)\n",
    "\n",
    "    # Find the index where the signal first reaches the threshold of the peak amplitude\n",
    "    attack_index = np.argmax(signal >= threshold * peak_amplitude)\n",
    "\n",
    "    # Calculate the attack time in seconds\n",
    "    attack_time = attack_index / sample_rate\n",
    "\n",
    "    return attack_time\n",
    "\n",
    "# Example usage\n",
    "# attack_time = calculate_attack_time(testDataSpectrum, sample_rate=20000)\n",
    "# print(f\"Attack Time: {attack_time} seconds\")"
   ]
  },
  {
   "cell_type": "markdown",
   "metadata": {},
   "source": [
    "# Main"
   ]
  },
  {
   "cell_type": "code",
   "execution_count": 10,
   "metadata": {},
   "outputs": [
    {
     "name": "stdout",
     "output_type": "stream",
     "text": [
      "216 324 255\n",
      "                                              Spectrum Label Age\n",
      "0    [-0.0157396069269226, -0.0247020394436264, -0....    RB  P1\n",
      "1    [0.1018583712467967, 0.1009078102222978, 0.088...    RB  P1\n",
      "2    [-0.027010544788838, -0.0150606347665663, -0.0...    RB  P1\n",
      "3    [-0.0568732668509613, -0.0635271940224535, -0....    RB  P1\n",
      "4    [-0.0867480419066406, -0.0499477508153265, -0....    RB  P1\n",
      "..                                                 ...   ...  ..\n",
      "643  [-0.0032282485048386, -0.0111029046295602, -0....    RV  P3\n",
      "644  [-0.0174840914892484, -0.0420584493957072, -0....    RV  P3\n",
      "645  [-0.0583508413778898, -0.0398861304647495, -0....    RV  P3\n",
      "646  [-0.0147686928255513, -0.0130036836941482, 0.0...    RV  P3\n",
      "647  [-0.008523275899048, -0.0104240549636359, 0.01...    RV  P3\n",
      "\n",
      "[648 rows x 3 columns]\n"
     ]
    }
   ],
   "source": [
    "raquetteTypeList = {\"RB\":0,\"RO\":1,\"RR\":2,\"RV\":3}\n",
    "raquetteAgeList = {\"P1\":1,\"P2\":2,\"P3\":3}\n",
    "\n",
    "\n",
    "\n",
    "sampleRateFolderP1=[]\n",
    "sampleRateFolderP2=[]\n",
    "sampleRateFolderP3=[]\n",
    "\n",
    "P1=readAllFileVibration(\"../../Data_Clean/Chanel0_Data_Columns/P1_clean\")\n",
    "P2=readAllFileVibration(\"../../Data_Clean/Chanel0_Data_Columns/P2_clean\")\n",
    "P3=readAllFileVibration(\"../../Data_Clean/Chanel0_Data_Columns/P3_clean\")\n",
    "\n",
    "print(len(P1),len(P2),len(P3))\n",
    "\n",
    "\n",
    "# Combine all data into a single DataFrame with equal repartition of ages\n",
    "all_data = []\n",
    "\n",
    "# Find the minimum number of samples across all ages\n",
    "min_samples_per_age = min(len(P1), len(P2), len(P3))\n",
    "\n",
    "# Limit the data for each age to the minimum number of samples\n",
    "for dataset, age in zip([P1[:min_samples_per_age], P2[:min_samples_per_age], P3[:min_samples_per_age]], [\"P1\", \"P2\", \"P3\"]):\n",
    "    for label, df in dataset:\n",
    "        spectrum_points = df.iloc[:, 0].tolist()  # Convert the first column to a list of spectrum points\n",
    "        all_data.append({\n",
    "            \"Spectrum\": spectrum_points,\n",
    "            \"Label\": label,\n",
    "            \"Age\": age\n",
    "        })\n",
    "\n",
    "# Convert the list of dictionaries into a DataFrame\n",
    "df_combined = pd.DataFrame(all_data)\n",
    "print(df_combined)\n",
    "\n",
    "\n"
   ]
  },
  {
   "cell_type": "code",
   "execution_count": 11,
   "metadata": {},
   "outputs": [
    {
     "name": "stdout",
     "output_type": "stream",
     "text": [
      "                                              Spectrum Label Age  AttackTime\n",
      "0    [-0.0157396069269226, -0.0247020394436264, -0....    RB  P1     0.01945\n",
      "1    [0.1018583712467967, 0.1009078102222978, 0.088...    RB  P1     0.01940\n",
      "2    [-0.027010544788838, -0.0150606347665663, -0.0...    RB  P1     0.01940\n",
      "3    [-0.0568732668509613, -0.0635271940224535, -0....    RB  P1     0.01950\n",
      "4    [-0.0867480419066406, -0.0499477508153265, -0....    RB  P1     0.01950\n",
      "..                                                 ...   ...  ..         ...\n",
      "643  [-0.0032282485048386, -0.0111029046295602, -0....    RV  P3     0.01960\n",
      "644  [-0.0174840914892484, -0.0420584493957072, -0....    RV  P3     0.01960\n",
      "645  [-0.0583508413778898, -0.0398861304647495, -0....    RV  P3     0.01945\n",
      "646  [-0.0147686928255513, -0.0130036836941482, 0.0...    RV  P3     0.01950\n",
      "647  [-0.008523275899048, -0.0104240549636359, 0.01...    RV  P3     0.01960\n",
      "\n",
      "[648 rows x 4 columns]\n"
     ]
    }
   ],
   "source": [
    "# Define the band width\n",
    "band_width = 20\n",
    "\n",
    "# Compute attack time for each row in the DataFrame\n",
    "df_combined['AttackTime'] = df_combined['Spectrum'].apply(\n",
    "    lambda signal: calculate_attack_time(signal=np.array(signal), sample_rate=20000)\n",
    ")\n",
    "\n",
    "print(df_combined)"
   ]
  },
  {
   "cell_type": "code",
   "execution_count": 12,
   "metadata": {},
   "outputs": [],
   "source": [
    "# Combine features into X\n",
    "X = df_combined[[\"AttackTime\"]].to_numpy()\n",
    "label_encoder = LabelEncoder()\n",
    "y = label_encoder.fit_transform(df_combined[\"Age\"])\n",
    "\n",
    "# # print(y)\n",
    "# print(len(X),len(y))\n",
    "\n",
    "# Diviser les données en ensembles d'entraînement et de test\n",
    "X_train, X_test, y_train, y_test = train_test_split(X, y, test_size=0.2, random_state=42)\n",
    "\n",
    "# print(X,y)\n"
   ]
  },
  {
   "cell_type": "code",
   "execution_count": 13,
   "metadata": {},
   "outputs": [
    {
     "name": "stdout",
     "output_type": "stream",
     "text": [
      "     n_neighbors   weights     metric  accuracy_train  accuracy_test\n",
      "0              1   uniform  euclidean        0.449807       0.484615\n",
      "1              1   uniform  manhattan        0.449807       0.484615\n",
      "2              1   uniform  chebyshev        0.449807       0.484615\n",
      "3              1   uniform  minkowski        0.449807       0.484615\n",
      "4              1  distance  euclidean        0.449807       0.484615\n",
      "..           ...       ...        ...             ...            ...\n",
      "155           20   uniform  minkowski        0.540541       0.530769\n",
      "156           20  distance  euclidean        0.550193       0.530769\n",
      "157           20  distance  manhattan        0.550193       0.530769\n",
      "158           20  distance  chebyshev        0.550193       0.530769\n",
      "159           20  distance  minkowski        0.550193       0.530769\n",
      "\n",
      "[160 rows x 5 columns]\n"
     ]
    }
   ],
   "source": [
    "# Définir les bonnes valeurs trouvé\n",
    "n_neighbors = 10  # Nombre de voisins\n",
    "weights_options = ['uniform']  # Méthode de pondération\n",
    "metric_options = ['manhattan']  # Métriques\n",
    "\n",
    "\n",
    "# Définir les plages de valeurs pour les hyperparamètres\n",
    "n_neighbors_range = range(1, 21)  # Nombre de voisins\n",
    "weights_options = ['uniform', 'distance']  # Méthode de pondération\n",
    "metric_options = ['euclidean', 'manhattan', 'chebyshev', 'minkowski']  # Métriques\n",
    "\n",
    "# Liste pour stocker les résultats\n",
    "results = []\n",
    "\n",
    "\n",
    "# Tester toutes les combinaisons d'hyperparamètres\n",
    "for n_neighbors in n_neighbors_range:\n",
    "    for weights in weights_options:\n",
    "        for metric in metric_options:\n",
    "            # Créer et entraîner le modèle KNN\n",
    "            knn = KNeighborsClassifier(n_neighbors=n_neighbors, weights=weights, metric=metric)\n",
    "            knn.fit(X_train, y_train)\n",
    "\n",
    "            # Évaluer sur l'ensemble de test\n",
    "            y_pred = knn.predict(X_test)\n",
    "            accuracy_test = accuracy_score(y_test, y_pred)\n",
    "\n",
    "            # Évaluer sur l'ensemble d'entraînement\n",
    "            y_train_pred = knn.predict(X_train)\n",
    "            accuracy_train = accuracy_score(y_train, y_train_pred)\n",
    "\n",
    "            # Ajouter les résultats à la liste\n",
    "            results.append({\n",
    "                'n_neighbors': n_neighbors,\n",
    "                'weights': weights,\n",
    "                'metric': metric,\n",
    "                'accuracy_train': accuracy_train,\n",
    "                'accuracy_test': accuracy_test\n",
    "            })\n",
    "\n",
    "# Convertir les résultats en DataFrame\n",
    "results_df = pd.DataFrame(results)\n",
    "\n",
    "\n",
    "\n",
    "print(results_df)"
   ]
  },
  {
   "cell_type": "code",
   "execution_count": 15,
   "metadata": {},
   "outputs": [
    {
     "data": {
      "image/png": "[encoded data removed]",
      "text/plain": [
       "<Figure size 640x480 with 2 Axes>"
      ]
     },
     "metadata": {},
     "output_type": "display_data"
    }
   ],
   "source": [
    "from sklearn.metrics import ConfusionMatrixDisplay\n",
    "\n",
    "# Afficher la matrice de confusion\n",
    "ConfusionMatrixDisplay.from_predictions(y_test, y_pred, display_labels=label_encoder.classes_)\n",
    "plt.title(\"Matrice de confusion\")\n",
    "plt.show()\n"
   ]
  }
 ],
 "metadata": {
  "kernelspec": {
   "display_name": "IAConda",
   "language": "python",
   "name": "python3"
  },
  "language_info": {
   "codemirror_mode": {
    "name": "ipython",
    "version": 3
   },
   "file_extension": ".py",
   "mimetype": "text/x-python",
   "name": "python",
   "nbconvert_exporter": "python",
   "pygments_lexer": "ipython3",
   "version": "3.8.15"
  }
 },
 "nbformat": 4,
 "nbformat_minor": 2
}
