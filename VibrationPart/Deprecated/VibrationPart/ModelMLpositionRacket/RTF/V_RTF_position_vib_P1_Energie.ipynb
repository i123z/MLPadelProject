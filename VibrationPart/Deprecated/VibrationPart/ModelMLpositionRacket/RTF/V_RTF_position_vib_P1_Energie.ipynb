{
 "cells": [
  {
   "cell_type": "markdown",
   "metadata": {},
   "source": [
    "# RTF Model for predicting zone with Peaks - Vibrations"
   ]
  },
  {
   "cell_type": "markdown",
   "metadata": {},
   "source": [
    "Import"
   ]
  },
  {
   "cell_type": "code",
   "execution_count": 59,
   "metadata": {},
   "outputs": [],
   "source": [
    "import os\n",
    "import glob\n",
    "import pandas as pd\n",
    "from sklearn.preprocessing import LabelEncoder\n",
    "from scipy.fft import fft\n",
    "import matplotlib.pyplot as plt\n",
    "import numpy as np\n",
    "from sklearn.model_selection import train_test_split\n",
    "from sklearn.ensemble import RandomForestClassifier\n",
    "from sklearn.metrics import accuracy_score"
   ]
  },
  {
   "cell_type": "markdown",
   "metadata": {},
   "source": [
    "ReadCsv function"
   ]
  },
  {
   "cell_type": "code",
   "execution_count": 98,
   "metadata": {},
   "outputs": [],
   "source": [
    "def readCsvFolder(folder_path, with_data=True):\n",
    "    files = []\n",
    "    data = []\n",
    "    for filename in os.listdir(folder_path):\n",
    "        if filename.endswith('.csv'):\n",
    "            full_path = os.path.join(folder_path, filename)\n",
    "            files.append(full_path)\n",
    "            if with_data:\n",
    "                try:\n",
    "                    df = pd.read_csv(full_path, header=None)\n",
    "                    data.append(df)\n",
    "                except Exception as e:\n",
    "                    print(f\"Erreur en lisant {full_path} : {e}\")\n",
    "    return (data, files) if with_data else files\n",
    "\n",
    "# Lecture des fichiers\n",
    "csv_data_list, filenames = readCsvFolder(\"/Users/vincentdamery/Desktop/projet_vibration/ModelMLAgeRacket/Data_Clean/Chanel0_Data_Columns/P1_clean/RB\")\n",
    "\n"
   ]
  },
  {
   "cell_type": "markdown",
   "metadata": {},
   "source": [
    "Spectrum"
   ]
  },
  {
   "cell_type": "code",
   "execution_count": 99,
   "metadata": {},
   "outputs": [],
   "source": [
    "\n",
    "def spectrumFromCsv(csv_data, sample_rate):\n",
    "    signal = csv_data.iloc[:, 0].values\n",
    "    spectrum = fft(signal)\n",
    "    magnitude = abs(spectrum[:len(spectrum) // 2])\n",
    "    freqs = np.fft.fftfreq(len(signal), d=1/sample_rate)[:len(magnitude)]\n",
    "    return freqs, magnitude\n"
   ]
  },
  {
   "cell_type": "markdown",
   "metadata": {},
   "source": [
    "Extract each peak and store"
   ]
  },
  {
   "cell_type": "code",
   "execution_count": 100,
   "metadata": {},
   "outputs": [],
   "source": [
    "def energy_per_frequency_band_from_spectrum(spectrum, freqs, band_width):\n",
    "    # Calculate energy per band\n",
    "    band_energies = []\n",
    "    band_frequencies = []\n",
    "    for start_freq in range(0, int(freqs[-1]), band_width):\n",
    "        end_freq = start_freq + band_width\n",
    "        band_indices = np.where((freqs >= start_freq) & (freqs < end_freq))[0]\n",
    "        band_energy = np.sum(spectrum[band_indices]**2)  # Sum of squared magnitudes\n",
    "        band_energies.append(band_energy)\n",
    "        band_frequencies.append((start_freq + end_freq) / 2)  # Center frequency of the band\n",
    "\n",
    "    return band_energies, band_frequencies\n"
   ]
  },
  {
   "cell_type": "markdown",
   "metadata": {},
   "source": [
    "## Main"
   ]
  },
  {
   "cell_type": "code",
   "execution_count": 101,
   "metadata": {},
   "outputs": [],
   "source": [
    "sample_rate = 20000\n",
    "band_width = 50\n",
    "\n",
    "raquetteTypeList = {\"RB\": 0, \"RO\": 1, \"RR\": 2, \"RV\": 3}\n",
    "zones = [\"C\", \"S\", \"V\"]\n",
    "\n",
    "X = []\n",
    "y = []\n",
    "\n",
    "for raquette in raquetteTypeList:\n",
    "    folder_path = f\"/Users/vincentdamery/Desktop/projet_vibration/ModelMLAgeRacket/Data_Clean/Chanel0_Data_Columns/P1_clean/{raquette}\"\n",
    "    csv_data_list, filenames = readCsvFolder(folder_path)\n",
    "\n",
    "    for i, csv_data in enumerate(csv_data_list):\n",
    "        freqs, spectrum = spectrumFromCsv(csv_data, sample_rate)\n",
    "\n",
    "        # Filtrage de la bande [150 Hz, 1000 Hz]\n",
    "        band_mask = (freqs >= 150) & (freqs <= 1000)\n",
    "        filtered_freqs = freqs[band_mask]\n",
    "        filtered_spectrum = spectrum[band_mask]\n",
    "\n",
    "        # Extraire les énergies par bande\n",
    "        energy_features = energy_per_frequency_band_from_spectrum(filtered_spectrum, filtered_freqs, band_width)\n",
    "        X.append(energy_features)\n",
    "\n",
    "        # Récupération du label de zone dans le nom du fichier\n",
    "        file_name = os.path.basename(filenames[i])\n",
    "        if 'C' in file_name:\n",
    "            zone = 'C'\n",
    "        elif 'S' in file_name:\n",
    "            zone = 'S'\n",
    "        elif 'V' in file_name:\n",
    "            zone = 'V'\n",
    "        else:\n",
    "            zone = 'unknown'\n",
    "        y.append(zone)\n",
    "\n",
    "\n"
   ]
  },
  {
   "cell_type": "code",
   "execution_count": 102,
   "metadata": {},
   "outputs": [],
   "source": [
    "\n",
    "\n",
    "# Encodage des labels (C, V, S → 0, 1, 2)\n",
    "label_encoder = LabelEncoder()\n",
    "y_encoded = label_encoder.fit_transform(y)\n",
    "\n",
    "# Train/test split\n",
    "X_train, X_test, y_train, y_test = train_test_split(X, y_encoded, test_size=0.2, random_state=42)"
   ]
  },
  {
   "cell_type": "code",
   "execution_count": 103,
   "metadata": {},
   "outputs": [
    {
     "name": "stdout",
     "output_type": "stream",
     "text": [
      "10\n"
     ]
    },
    {
     "ename": "ValueError",
     "evalue": "Found array with dim 3. RandomForestClassifier expected <= 2.",
     "output_type": "error",
     "traceback": [
      "\u001b[0;31m---------------------------------------------------------------------------\u001b[0m",
      "\u001b[0;31mValueError\u001b[0m                                Traceback (most recent call last)",
      "Cell \u001b[0;32mIn[103], line 66\u001b[0m\n\u001b[1;32m     62\u001b[0m \u001b[38;5;28;01mfor\u001b[39;00m min_samples_split \u001b[38;5;129;01min\u001b[39;00m min_samples_split_range:\n\u001b[1;32m     63\u001b[0m     \u001b[38;5;66;03m# Créer et entraîner le modèle Random Forest\u001b[39;00m\n\u001b[1;32m     64\u001b[0m     rf \u001b[38;5;241m=\u001b[39m RandomForestClassifier(n_estimators\u001b[38;5;241m=\u001b[39mn_estimators, max_depth\u001b[38;5;241m=\u001b[39mmax_depth,\n\u001b[1;32m     65\u001b[0m                                 min_samples_split\u001b[38;5;241m=\u001b[39mmin_samples_split, random_state\u001b[38;5;241m=\u001b[39m\u001b[38;5;241m42\u001b[39m)\n\u001b[0;32m---> 66\u001b[0m     rf\u001b[38;5;241m.\u001b[39mfit(X_train, y_train)\n\u001b[1;32m     68\u001b[0m     \u001b[38;5;66;03m# Évaluer sur l'ensemble de test\u001b[39;00m\n\u001b[1;32m     69\u001b[0m     y_pred \u001b[38;5;241m=\u001b[39m rf\u001b[38;5;241m.\u001b[39mpredict(X_test)\n",
      "File \u001b[0;32m/opt/anaconda3/lib/python3.12/site-packages/sklearn/base.py:1389\u001b[0m, in \u001b[0;36m_fit_context.<locals>.decorator.<locals>.wrapper\u001b[0;34m(estimator, *args, **kwargs)\u001b[0m\n\u001b[1;32m   1382\u001b[0m     estimator\u001b[38;5;241m.\u001b[39m_validate_params()\n\u001b[1;32m   1384\u001b[0m \u001b[38;5;28;01mwith\u001b[39;00m config_context(\n\u001b[1;32m   1385\u001b[0m     skip_parameter_validation\u001b[38;5;241m=\u001b[39m(\n\u001b[1;32m   1386\u001b[0m         prefer_skip_nested_validation \u001b[38;5;129;01mor\u001b[39;00m global_skip_validation\n\u001b[1;32m   1387\u001b[0m     )\n\u001b[1;32m   1388\u001b[0m ):\n\u001b[0;32m-> 1389\u001b[0m     \u001b[38;5;28;01mreturn\u001b[39;00m fit_method(estimator, \u001b[38;5;241m*\u001b[39margs, \u001b[38;5;241m*\u001b[39m\u001b[38;5;241m*\u001b[39mkwargs)\n",
      "File \u001b[0;32m/opt/anaconda3/lib/python3.12/site-packages/sklearn/ensemble/_forest.py:360\u001b[0m, in \u001b[0;36mBaseForest.fit\u001b[0;34m(self, X, y, sample_weight)\u001b[0m\n\u001b[1;32m    357\u001b[0m \u001b[38;5;28;01mif\u001b[39;00m issparse(y):\n\u001b[1;32m    358\u001b[0m     \u001b[38;5;28;01mraise\u001b[39;00m \u001b[38;5;167;01mValueError\u001b[39;00m(\u001b[38;5;124m\"\u001b[39m\u001b[38;5;124msparse multilabel-indicator for y is not supported.\u001b[39m\u001b[38;5;124m\"\u001b[39m)\n\u001b[0;32m--> 360\u001b[0m X, y \u001b[38;5;241m=\u001b[39m validate_data(\n\u001b[1;32m    361\u001b[0m     \u001b[38;5;28mself\u001b[39m,\n\u001b[1;32m    362\u001b[0m     X,\n\u001b[1;32m    363\u001b[0m     y,\n\u001b[1;32m    364\u001b[0m     multi_output\u001b[38;5;241m=\u001b[39m\u001b[38;5;28;01mTrue\u001b[39;00m,\n\u001b[1;32m    365\u001b[0m     accept_sparse\u001b[38;5;241m=\u001b[39m\u001b[38;5;124m\"\u001b[39m\u001b[38;5;124mcsc\u001b[39m\u001b[38;5;124m\"\u001b[39m,\n\u001b[1;32m    366\u001b[0m     dtype\u001b[38;5;241m=\u001b[39mDTYPE,\n\u001b[1;32m    367\u001b[0m     ensure_all_finite\u001b[38;5;241m=\u001b[39m\u001b[38;5;28;01mFalse\u001b[39;00m,\n\u001b[1;32m    368\u001b[0m )\n\u001b[1;32m    369\u001b[0m \u001b[38;5;66;03m# _compute_missing_values_in_feature_mask checks if X has missing values and\u001b[39;00m\n\u001b[1;32m    370\u001b[0m \u001b[38;5;66;03m# will raise an error if the underlying tree base estimator can't handle missing\u001b[39;00m\n\u001b[1;32m    371\u001b[0m \u001b[38;5;66;03m# values. Only the criterion is required to determine if the tree supports\u001b[39;00m\n\u001b[1;32m    372\u001b[0m \u001b[38;5;66;03m# missing values.\u001b[39;00m\n\u001b[1;32m    373\u001b[0m estimator \u001b[38;5;241m=\u001b[39m \u001b[38;5;28mtype\u001b[39m(\u001b[38;5;28mself\u001b[39m\u001b[38;5;241m.\u001b[39mestimator)(criterion\u001b[38;5;241m=\u001b[39m\u001b[38;5;28mself\u001b[39m\u001b[38;5;241m.\u001b[39mcriterion)\n",
      "File \u001b[0;32m/opt/anaconda3/lib/python3.12/site-packages/sklearn/utils/validation.py:2961\u001b[0m, in \u001b[0;36mvalidate_data\u001b[0;34m(_estimator, X, y, reset, validate_separately, skip_check_array, **check_params)\u001b[0m\n\u001b[1;32m   2959\u001b[0m         y \u001b[38;5;241m=\u001b[39m check_array(y, input_name\u001b[38;5;241m=\u001b[39m\u001b[38;5;124m\"\u001b[39m\u001b[38;5;124my\u001b[39m\u001b[38;5;124m\"\u001b[39m, \u001b[38;5;241m*\u001b[39m\u001b[38;5;241m*\u001b[39mcheck_y_params)\n\u001b[1;32m   2960\u001b[0m     \u001b[38;5;28;01melse\u001b[39;00m:\n\u001b[0;32m-> 2961\u001b[0m         X, y \u001b[38;5;241m=\u001b[39m check_X_y(X, y, \u001b[38;5;241m*\u001b[39m\u001b[38;5;241m*\u001b[39mcheck_params)\n\u001b[1;32m   2962\u001b[0m     out \u001b[38;5;241m=\u001b[39m X, y\n\u001b[1;32m   2964\u001b[0m \u001b[38;5;28;01mif\u001b[39;00m \u001b[38;5;129;01mnot\u001b[39;00m no_val_X \u001b[38;5;129;01mand\u001b[39;00m check_params\u001b[38;5;241m.\u001b[39mget(\u001b[38;5;124m\"\u001b[39m\u001b[38;5;124mensure_2d\u001b[39m\u001b[38;5;124m\"\u001b[39m, \u001b[38;5;28;01mTrue\u001b[39;00m):\n",
      "File \u001b[0;32m/opt/anaconda3/lib/python3.12/site-packages/sklearn/utils/validation.py:1370\u001b[0m, in \u001b[0;36mcheck_X_y\u001b[0;34m(X, y, accept_sparse, accept_large_sparse, dtype, order, copy, force_writeable, force_all_finite, ensure_all_finite, ensure_2d, allow_nd, multi_output, ensure_min_samples, ensure_min_features, y_numeric, estimator)\u001b[0m\n\u001b[1;32m   1364\u001b[0m     \u001b[38;5;28;01mraise\u001b[39;00m \u001b[38;5;167;01mValueError\u001b[39;00m(\n\u001b[1;32m   1365\u001b[0m         \u001b[38;5;124mf\u001b[39m\u001b[38;5;124m\"\u001b[39m\u001b[38;5;132;01m{\u001b[39;00mestimator_name\u001b[38;5;132;01m}\u001b[39;00m\u001b[38;5;124m requires y to be passed, but the target y is None\u001b[39m\u001b[38;5;124m\"\u001b[39m\n\u001b[1;32m   1366\u001b[0m     )\n\u001b[1;32m   1368\u001b[0m ensure_all_finite \u001b[38;5;241m=\u001b[39m _deprecate_force_all_finite(force_all_finite, ensure_all_finite)\n\u001b[0;32m-> 1370\u001b[0m X \u001b[38;5;241m=\u001b[39m check_array(\n\u001b[1;32m   1371\u001b[0m     X,\n\u001b[1;32m   1372\u001b[0m     accept_sparse\u001b[38;5;241m=\u001b[39maccept_sparse,\n\u001b[1;32m   1373\u001b[0m     accept_large_sparse\u001b[38;5;241m=\u001b[39maccept_large_sparse,\n\u001b[1;32m   1374\u001b[0m     dtype\u001b[38;5;241m=\u001b[39mdtype,\n\u001b[1;32m   1375\u001b[0m     order\u001b[38;5;241m=\u001b[39morder,\n\u001b[1;32m   1376\u001b[0m     copy\u001b[38;5;241m=\u001b[39mcopy,\n\u001b[1;32m   1377\u001b[0m     force_writeable\u001b[38;5;241m=\u001b[39mforce_writeable,\n\u001b[1;32m   1378\u001b[0m     ensure_all_finite\u001b[38;5;241m=\u001b[39mensure_all_finite,\n\u001b[1;32m   1379\u001b[0m     ensure_2d\u001b[38;5;241m=\u001b[39mensure_2d,\n\u001b[1;32m   1380\u001b[0m     allow_nd\u001b[38;5;241m=\u001b[39mallow_nd,\n\u001b[1;32m   1381\u001b[0m     ensure_min_samples\u001b[38;5;241m=\u001b[39mensure_min_samples,\n\u001b[1;32m   1382\u001b[0m     ensure_min_features\u001b[38;5;241m=\u001b[39mensure_min_features,\n\u001b[1;32m   1383\u001b[0m     estimator\u001b[38;5;241m=\u001b[39mestimator,\n\u001b[1;32m   1384\u001b[0m     input_name\u001b[38;5;241m=\u001b[39m\u001b[38;5;124m\"\u001b[39m\u001b[38;5;124mX\u001b[39m\u001b[38;5;124m\"\u001b[39m,\n\u001b[1;32m   1385\u001b[0m )\n\u001b[1;32m   1387\u001b[0m y \u001b[38;5;241m=\u001b[39m _check_y(y, multi_output\u001b[38;5;241m=\u001b[39mmulti_output, y_numeric\u001b[38;5;241m=\u001b[39my_numeric, estimator\u001b[38;5;241m=\u001b[39mestimator)\n\u001b[1;32m   1389\u001b[0m check_consistent_length(X, y)\n",
      "File \u001b[0;32m/opt/anaconda3/lib/python3.12/site-packages/sklearn/utils/validation.py:1101\u001b[0m, in \u001b[0;36mcheck_array\u001b[0;34m(array, accept_sparse, accept_large_sparse, dtype, order, copy, force_writeable, force_all_finite, ensure_all_finite, ensure_non_negative, ensure_2d, allow_nd, ensure_min_samples, ensure_min_features, estimator, input_name)\u001b[0m\n\u001b[1;32m   1096\u001b[0m     \u001b[38;5;28;01mraise\u001b[39;00m \u001b[38;5;167;01mValueError\u001b[39;00m(\n\u001b[1;32m   1097\u001b[0m         \u001b[38;5;124m\"\u001b[39m\u001b[38;5;124mdtype=\u001b[39m\u001b[38;5;124m'\u001b[39m\u001b[38;5;124mnumeric\u001b[39m\u001b[38;5;124m'\u001b[39m\u001b[38;5;124m is not compatible with arrays of bytes/strings.\u001b[39m\u001b[38;5;124m\"\u001b[39m\n\u001b[1;32m   1098\u001b[0m         \u001b[38;5;124m\"\u001b[39m\u001b[38;5;124mConvert your data to numeric values explicitly instead.\u001b[39m\u001b[38;5;124m\"\u001b[39m\n\u001b[1;32m   1099\u001b[0m     )\n\u001b[1;32m   1100\u001b[0m \u001b[38;5;28;01mif\u001b[39;00m \u001b[38;5;129;01mnot\u001b[39;00m allow_nd \u001b[38;5;129;01mand\u001b[39;00m array\u001b[38;5;241m.\u001b[39mndim \u001b[38;5;241m>\u001b[39m\u001b[38;5;241m=\u001b[39m \u001b[38;5;241m3\u001b[39m:\n\u001b[0;32m-> 1101\u001b[0m     \u001b[38;5;28;01mraise\u001b[39;00m \u001b[38;5;167;01mValueError\u001b[39;00m(\n\u001b[1;32m   1102\u001b[0m         \u001b[38;5;124m\"\u001b[39m\u001b[38;5;124mFound array with dim \u001b[39m\u001b[38;5;132;01m%d\u001b[39;00m\u001b[38;5;124m. \u001b[39m\u001b[38;5;132;01m%s\u001b[39;00m\u001b[38;5;124m expected <= 2.\u001b[39m\u001b[38;5;124m\"\u001b[39m\n\u001b[1;32m   1103\u001b[0m         \u001b[38;5;241m%\u001b[39m (array\u001b[38;5;241m.\u001b[39mndim, estimator_name)\n\u001b[1;32m   1104\u001b[0m     )\n\u001b[1;32m   1106\u001b[0m \u001b[38;5;28;01mif\u001b[39;00m ensure_all_finite:\n\u001b[1;32m   1107\u001b[0m     _assert_all_finite(\n\u001b[1;32m   1108\u001b[0m         array,\n\u001b[1;32m   1109\u001b[0m         input_name\u001b[38;5;241m=\u001b[39minput_name,\n\u001b[1;32m   1110\u001b[0m         estimator_name\u001b[38;5;241m=\u001b[39mestimator_name,\n\u001b[1;32m   1111\u001b[0m         allow_nan\u001b[38;5;241m=\u001b[39mensure_all_finite \u001b[38;5;241m==\u001b[39m \u001b[38;5;124m\"\u001b[39m\u001b[38;5;124mallow-nan\u001b[39m\u001b[38;5;124m\"\u001b[39m,\n\u001b[1;32m   1112\u001b[0m     )\n",
      "\u001b[0;31mValueError\u001b[0m: Found array with dim 3. RandomForestClassifier expected <= 2."
     ]
    }
   ],
   "source": [
    "results = []\n",
    "\n",
    "sample_rate = 20000\n",
    "band_width = 50\n",
    "\n",
    "raquetteTypeList = {\"RB\": 0, \"RO\": 1, \"RR\": 2, \"RV\": 3}\n",
    "zones = [\"C\", \"S\", \"V\"]\n",
    "\n",
    "\n",
    "for band_width in range(10, 101, 5):\n",
    "    \n",
    "    X = []\n",
    "    y = []\n",
    "\n",
    "    \n",
    "    for raquette in raquetteTypeList:\n",
    "        folder_path = f\"/Users/vincentdamery/Desktop/projet_vibration/ModelMLAgeRacket/Data_Clean/Chanel0_Data_Columns/P1_clean/{raquette}\"\n",
    "        csv_data_list, filenames = readCsvFolder(folder_path)\n",
    "\n",
    "        for i, csv_data in enumerate(csv_data_list):\n",
    "            freqs, spectrum = spectrumFromCsv(csv_data, sample_rate)\n",
    "\n",
    "            # Filtrage de la bande [150 Hz, 1000 Hz]\n",
    "            band_mask = (freqs >= 150) & (freqs <= 1000)\n",
    "            filtered_freqs = freqs[band_mask]\n",
    "            filtered_spectrum = spectrum[band_mask]\n",
    "\n",
    "            # Extraire les énergies par bande\n",
    "            energy_features = energy_per_frequency_band_from_spectrum(filtered_spectrum, filtered_freqs, band_width)\n",
    "            X.append(energy_features)\n",
    "\n",
    "            # Récupération du label de zone dans le nom du fichier\n",
    "            file_name = os.path.basename(filenames[i])\n",
    "            if 'C' in file_name:\n",
    "                zone = 'C'\n",
    "            elif 'S' in file_name:\n",
    "                zone = 'S'\n",
    "            elif 'V' in file_name:\n",
    "                zone = 'V'\n",
    "            else:\n",
    "                zone = 'unknown'\n",
    "            y.append(zone)\n",
    "            \n",
    "    \n",
    "        # Encodage des labels (C, V, S → 0, 1, 2)\n",
    "    label_encoder = LabelEncoder()\n",
    "    y_encoded = label_encoder.fit_transform(y)\n",
    "\n",
    "    # Train/test split\n",
    "    X_train, X_test, y_train, y_test = train_test_split(X, y_encoded, test_size=0.2, random_state=42)\n",
    "\n",
    "    n_estimators_range = range(10, 101, 10)  # Nombre d'arbres entre 10 et 100\n",
    "    max_depth_range = [None, 10, 20, 30, 40]  # Profondeurs différentes\n",
    "    min_samples_split_range = [2, 5, 10]  # Nombre minimum pour diviser un nœud\n",
    "    min_samples_leaf_range = [1, 2, 4]  # Nombre minimum d'échantillons dans une feuille\n",
    "    max_features_range = ['sqrt', 'log2', None]  # Nombre de features par arbre\n",
    "\n",
    "            # Tester toutes les combinaisons d'hyperparamètres\n",
    "    for n_estimators in n_estimators_range:\n",
    "                print(n_estimators)\n",
    "                for max_depth in max_depth_range:\n",
    "                    for min_samples_split in min_samples_split_range:\n",
    "                        # Créer et entraîner le modèle Random Forest\n",
    "                        rf = RandomForestClassifier(n_estimators=n_estimators, max_depth=max_depth,\n",
    "                                                    min_samples_split=min_samples_split, random_state=42)\n",
    "                        rf.fit(X_train, y_train)\n",
    "\n",
    "                        # Évaluer sur l'ensemble de test\n",
    "                        y_pred = rf.predict(X_test)\n",
    "                        accuracy_test = accuracy_score(y_test, y_pred)\n",
    "\n",
    "                        # Évaluer sur l'ensemble d'entraînement\n",
    "                        y_train_pred = rf.predict(X_train)\n",
    "                        accuracy_train = accuracy_score(y_train, y_train_pred)\n",
    "\n",
    "\n",
    "                        # Ajouter le nom du canal aux résultats\n",
    "                        results.append({\n",
    "                            'band_width': band_width,\n",
    "                            'n_estimators': n_estimators,\n",
    "                            'max_depth': max_depth,\n",
    "                            'min_samples_split': min_samples_split,\n",
    "                            'accuracy_test': accuracy_test,\n",
    "                            'accuracy_train': accuracy_train,\n",
    "                        })\n",
    "                        \n",
    "                    \n",
    "# Convertir les résultats en DataFrame\n",
    "results_df = pd.DataFrame(results)\n",
    "\n",
    "\n",
    "# Enregistrer les résultats dans un fichier Excel\n",
    "results_df.to_excel(\"V_RTF_ZONE_P1_Energie.xlsx\", index=False)\n",
    "\n",
    "print(\"Results have been saved to 'V_RTF_ZONE_P1_Energie.xlsx'.\")\n",
    "\n",
    "sorted_results_df = results_df.sort_values(by='accuracy_test', ascending=False)\n",
    "\n",
    "# Afficher les résultats triés\n",
    "print(sorted_results_df)\n",
    "\n"
   ]
  },
  {
   "cell_type": "code",
   "execution_count": null,
   "metadata": {},
   "outputs": [],
   "source": [
    "for band_width in range(10, 101, 5):"
   ]
  },
  {
   "cell_type": "markdown",
   "metadata": {},
   "source": [
    "Extract peaks"
   ]
  },
  {
   "cell_type": "code",
   "execution_count": 24,
   "metadata": {},
   "outputs": [
    {
     "data": {
      "image/png": "[encoded data removed]",
      "text/plain": [
       "<Figure size 640x480 with 2 Axes>"
      ]
     },
     "metadata": {},
     "output_type": "display_data"
    },
    {
     "data": {
      "image/png": "[encoded data removed]",
      "text/plain": [
       "<Figure size 1000x400 with 1 Axes>"
      ]
     },
     "metadata": {},
     "output_type": "display_data"
    }
   ],
   "source": [
    "from sklearn.metrics import ConfusionMatrixDisplay\n",
    "\n",
    "# Afficher la matrice de confusion\n",
    "ConfusionMatrixDisplay.from_predictions(y_test, y_pred, display_labels=label_encoder.classes_)\n",
    "plt.title(\"Matrice de confusion\")\n",
    "plt.show()\n",
    "\n",
    "importances = rf.feature_importances_\n",
    "plt.figure(figsize=(10, 4))\n",
    "plt.bar(range(len(importances)), importances)\n",
    "plt.title(\"Importance des features\")\n",
    "plt.show()\n"
   ]
  }
 ],
 "metadata": {
  "kernelspec": {
   "display_name": "base",
   "language": "python",
   "name": "python3"
  },
  "language_info": {
   "codemirror_mode": {
    "name": "ipython",
    "version": 3
   },
   "file_extension": ".py",
   "mimetype": "text/x-python",
   "name": "python",
   "nbconvert_exporter": "python",
   "pygments_lexer": "ipython3",
   "version": "3.12.2"
  }
 },
 "nbformat": 4,
 "nbformat_minor": 2
}
